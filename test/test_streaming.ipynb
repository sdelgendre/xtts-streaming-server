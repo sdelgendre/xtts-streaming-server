{
 "cells": [
  {
   "cell_type": "code",
   "execution_count": 16,
   "metadata": {},
   "outputs": [],
   "source": [
    "import argparse\n",
    "import json\n",
    "import shutil\n",
    "import subprocess\n",
    "import sys\n",
    "import time\n",
    "from typing import Iterator\n",
    "import os\n",
    "import requests\n",
    "import audioop\n",
    "from pydub import AudioSegment\n",
    "from types import SimpleNamespace\n",
    "from ffmpeg import FFmpeg, Progress\n",
    "import io\n"
   ]
  },
  {
   "cell_type": "code",
   "execution_count": 22,
   "metadata": {},
   "outputs": [],
   "source": [
    "import base64\n",
    "\n",
    "def to_bytes(b64: str) -> bytes:\n",
    "    return base64.b64decode(b64)\n",
    "\n",
    "def from_bytes(byt: bytes) -> str:\n",
    "    return base64.b64encode(byt).decode()"
   ]
  },
  {
   "cell_type": "code",
   "execution_count": 23,
   "metadata": {},
   "outputs": [],
   "source": [
    "\n",
    "def convert_wav_chunk_to_ulaw_chunk(wav_chunk, sample_width=2): \n",
    "    # The sample_width parameter corresponds to the number of bytes used per sample, default is 2 for 16-bit audio\n",
    "    \n",
    "    if sample_width not in {1, 2, 4}:\n",
    "        raise ValueError(\"sample_width must be 1, 2, or 4\")\n",
    "        \n",
    "    # Convert the WAV audio chunk to u-Law encoding \n",
    "    try:\n",
    "        ulaw_chunk = audioop.lin2ulaw(wav_chunk, sample_width) \n",
    "    except audioop.error as e:\n",
    "        print(f\"Error converting WAV chunk to u-Law: {e}\")\n",
    "        return None\n",
    "    \n",
    "    return ulaw_chunk\n"
   ]
  },
  {
   "cell_type": "code",
   "execution_count": 4,
   "metadata": {},
   "outputs": [],
   "source": [
    "\n",
    "def is_installed(lib_name: str) -> bool:\n",
    "    lib = shutil.which(lib_name)\n",
    "    if lib is None:\n",
    "        return False\n",
    "    return True\n"
   ]
  },
  {
   "cell_type": "code",
   "execution_count": 5,
   "metadata": {},
   "outputs": [],
   "source": [
    "\n",
    "def save(audio: bytes, filename: str) -> None:\n",
    "    with open(filename, \"wb\") as f:\n",
    "        f.write(audio)\n"
   ]
  },
  {
   "cell_type": "code",
   "execution_count": 6,
   "metadata": {},
   "outputs": [],
   "source": [
    "\n",
    "def stream_ffplay(audio_stream, output_file, save=True):\n",
    "    if not save:\n",
    "        ffplay_cmd = [\"ffplay\", \"-nodisp\", \"-probesize\", \"1024\", \"-autoexit\", \"-\"]\n",
    "    else:\n",
    "        print(\"Saving to \", output_file)\n",
    "        # ffplay_cmd = [\"ffmpeg\", \"-probesize\", \"1024\", \"-i\", \"-\", '-ar', '8000', output_file]\n",
    "        ffplay_cmd = [\"ffmpeg\", \"-probesize\", \"1024\",'-c:a', 'pcm_mulaw', '-ar', '8000', output_file, \"-i\", '-']\n",
    "\n",
    "    ffplay_proc = subprocess.Popen(ffplay_cmd, stdin=subprocess.PIPE)\n",
    "    for chunk in audio_stream:\n",
    "        if chunk is not None:\n",
    "            ffplay_proc.stdin.write(chunk)\n",
    "\n",
    "    # close on finish\n",
    "    ffplay_proc.stdin.close()\n",
    "    ffplay_proc.wait()\n"
   ]
  },
  {
   "cell_type": "code",
   "execution_count": 7,
   "metadata": {},
   "outputs": [],
   "source": [
    "\n",
    "def tts(text, voice_id, language, server_url, stream_chunk_size) -> Iterator[bytes]:\n",
    "    start = time.perf_counter()\n",
    "    payload = {}\n",
    "    payload[\"text\"] = text\n",
    "    payload[\"voice_id\"] = voice_id\n",
    "    payload[\"language\"] = language\n",
    "    payload[\"stream_chunk_size\"] = stream_chunk_size  # you can reduce it to get faster response, but degrade quality\n",
    "    payload[\"add_wav_header\"] = False\n",
    "    res = requests.post(\n",
    "        f\"{server_url}/tts_stream\",\n",
    "        json=payload,   \n",
    "        stream=True,\n",
    "    )\n",
    "    end = time.perf_counter()\n",
    "    print(f\"Time to make POST: {end-start}s\", file=sys.stderr)\n",
    "\n",
    "    if res.status_code != 200:\n",
    "        print(\"Error:\", res.text)\n",
    "        sys.exit(1)\n",
    "\n",
    "    first = True\n",
    "    for chunk in res.iter_content(chunk_size=512):\n",
    "        if first:\n",
    "            end = time.perf_counter()\n",
    "            print(f\"Time to first chunk: {end-start}s\", file=sys.stderr)\n",
    "            first = False\n",
    "        if chunk:\n",
    "            yield chunk\n",
    "\n",
    "    print(\"⏱️ response.elapsed:\", res.elapsed)\n",
    "\n"
   ]
  },
  {
   "cell_type": "code",
   "execution_count": 8,
   "metadata": {},
   "outputs": [],
   "source": [
    "\n",
    "def get_speaker(ref_audio,server_url):\n",
    "    files = {\"wav_file\": (\"reference.wav\", open(ref_audio, \"rb\"))}\n",
    "    response = requests.post(f\"{server_url}/clone_speaker\", files=files)\n",
    "    return response.json()\n"
   ]
  },
  {
   "cell_type": "code",
   "execution_count": 9,
   "metadata": {},
   "outputs": [],
   "source": [
    "server_url = os.getenv(\"SERVER_URL\", \"http://15.188.74.103:8000\")\n",
    "\n",
    "text = \"Mon nom est Yoann, et je pense que c'est vraiment sympa de manger des crêpes, vous ne trouvez pas ?\"\n",
    "language = 'fr'\n",
    "ref_file = None\n",
    "stream_chunk_size = 30\n",
    "file_counter = 0\n",
    "output_file = \"./test_outputs/output_french\"\n",
    "while os.path.isfile(output_file+str(file_counter)+'.wav'):\n",
    "    file_counter += 1\n",
    "output_file = output_file+str(file_counter)+'.wav'\n",
    "voice_id = 'french_speaker3'"
   ]
  },
  {
   "cell_type": "code",
   "execution_count": 20,
   "metadata": {},
   "outputs": [
    {
     "ename": "AttributeError",
     "evalue": "'generator' object has no attribute 'read'",
     "output_type": "error",
     "traceback": [
      "\u001b[1;31m---------------------------------------------------------------------------\u001b[0m",
      "\u001b[1;31mAttributeError\u001b[0m                            Traceback (most recent call last)",
      "Cell \u001b[1;32mIn[20], line 42\u001b[0m\n\u001b[0;32m     38\u001b[0m \u001b[38;5;129m@ffmpeg\u001b[39m\u001b[38;5;241m.\u001b[39mon(\u001b[38;5;124m\"\u001b[39m\u001b[38;5;124mprogress\u001b[39m\u001b[38;5;124m\"\u001b[39m)\n\u001b[0;32m     39\u001b[0m \u001b[38;5;28;01mdef\u001b[39;00m \u001b[38;5;21mon_progress\u001b[39m(progress: Progress):\n\u001b[0;32m     40\u001b[0m     \u001b[38;5;28mprint\u001b[39m(progress)\n\u001b[1;32m---> 42\u001b[0m \u001b[43mffmpeg\u001b[49m\u001b[38;5;241;43m.\u001b[39;49m\u001b[43mexecute\u001b[49m\u001b[43m(\u001b[49m\u001b[43maudio_stream\u001b[49m\u001b[43m)\u001b[49m\n\u001b[0;32m     44\u001b[0m \u001b[38;5;66;03m# Si la conversion est faite à la fin il n'y a pas de problème\u001b[39;00m\n\u001b[0;32m     45\u001b[0m \n\u001b[0;32m     46\u001b[0m \u001b[38;5;66;03m#     if i == 0:\u001b[39;00m\n\u001b[1;32m   (...)\u001b[0m\n\u001b[0;32m     49\u001b[0m \u001b[38;5;66;03m#         wave_data += AudioSegment(chunk, frame_rate=24000,channels=1,sample_width=2)\u001b[39;00m\n\u001b[0;32m     50\u001b[0m \u001b[38;5;66;03m# AudioSegment.from_file(wave_data.export(out_f='test.wav',format=\"wav\",codec='pcm_mulaw',parameters=[\"-ar\",\"8000\"]))\u001b[39;00m\n",
      "File \u001b[1;32mc:\\Users\\quent\\venv\\xtts_stream\\lib\\site-packages\\ffmpeg\\ffmpeg.py:197\u001b[0m, in \u001b[0;36mFFmpeg.execute\u001b[1;34m(self, stream, timeout)\u001b[0m\n\u001b[0;32m    194\u001b[0m             \u001b[38;5;28mself\u001b[39m\u001b[38;5;241m.\u001b[39m_process\u001b[38;5;241m.\u001b[39mterminate()\n\u001b[0;32m    195\u001b[0m             concurrent\u001b[38;5;241m.\u001b[39mfutures\u001b[38;5;241m.\u001b[39mwait(pending)\n\u001b[1;32m--> 197\u001b[0m             \u001b[38;5;28;01mraise\u001b[39;00m exception\n\u001b[0;32m    199\u001b[0m \u001b[38;5;28;01mif\u001b[39;00m \u001b[38;5;28mself\u001b[39m\u001b[38;5;241m.\u001b[39m_process\u001b[38;5;241m.\u001b[39mreturncode \u001b[38;5;241m==\u001b[39m \u001b[38;5;241m0\u001b[39m:\n\u001b[0;32m    200\u001b[0m     \u001b[38;5;28mself\u001b[39m\u001b[38;5;241m.\u001b[39memit(\u001b[38;5;124m\"\u001b[39m\u001b[38;5;124mcompleted\u001b[39m\u001b[38;5;124m\"\u001b[39m)\n",
      "File \u001b[1;32mD:\\Program Files (x86)\\Pyhton 3.8.5\\lib\\concurrent\\futures\\thread.py:57\u001b[0m, in \u001b[0;36m_WorkItem.run\u001b[1;34m(self)\u001b[0m\n\u001b[0;32m     54\u001b[0m     \u001b[38;5;28;01mreturn\u001b[39;00m\n\u001b[0;32m     56\u001b[0m \u001b[38;5;28;01mtry\u001b[39;00m:\n\u001b[1;32m---> 57\u001b[0m     result \u001b[38;5;241m=\u001b[39m \u001b[38;5;28;43mself\u001b[39;49m\u001b[38;5;241;43m.\u001b[39;49m\u001b[43mfn\u001b[49m\u001b[43m(\u001b[49m\u001b[38;5;241;43m*\u001b[39;49m\u001b[38;5;28;43mself\u001b[39;49m\u001b[38;5;241;43m.\u001b[39;49m\u001b[43margs\u001b[49m\u001b[43m,\u001b[49m\u001b[43m \u001b[49m\u001b[38;5;241;43m*\u001b[39;49m\u001b[38;5;241;43m*\u001b[39;49m\u001b[38;5;28;43mself\u001b[39;49m\u001b[38;5;241;43m.\u001b[39;49m\u001b[43mkwargs\u001b[49m\u001b[43m)\u001b[49m\n\u001b[0;32m     58\u001b[0m \u001b[38;5;28;01mexcept\u001b[39;00m \u001b[38;5;167;01mBaseException\u001b[39;00m \u001b[38;5;28;01mas\u001b[39;00m exc:\n\u001b[0;32m     59\u001b[0m     \u001b[38;5;28mself\u001b[39m\u001b[38;5;241m.\u001b[39mfuture\u001b[38;5;241m.\u001b[39mset_exception(exc)\n",
      "File \u001b[1;32mc:\\Users\\quent\\venv\\xtts_stream\\lib\\site-packages\\ffmpeg\\ffmpeg.py:235\u001b[0m, in \u001b[0;36mFFmpeg._write_stdin\u001b[1;34m(self, stream)\u001b[0m\n\u001b[0;32m    231\u001b[0m     \u001b[38;5;28;01mreturn\u001b[39;00m\n\u001b[0;32m    233\u001b[0m \u001b[38;5;28;01massert\u001b[39;00m \u001b[38;5;28mself\u001b[39m\u001b[38;5;241m.\u001b[39m_process\u001b[38;5;241m.\u001b[39mstdin \u001b[38;5;129;01mis\u001b[39;00m \u001b[38;5;129;01mnot\u001b[39;00m \u001b[38;5;28;01mNone\u001b[39;00m\n\u001b[1;32m--> 235\u001b[0m \u001b[38;5;28;01mfor\u001b[39;00m chunk \u001b[38;5;129;01min\u001b[39;00m read_stream(stream, size\u001b[38;5;241m=\u001b[39mio\u001b[38;5;241m.\u001b[39mDEFAULT_BUFFER_SIZE):\n\u001b[0;32m    236\u001b[0m     \u001b[38;5;28mself\u001b[39m\u001b[38;5;241m.\u001b[39m_process\u001b[38;5;241m.\u001b[39mstdin\u001b[38;5;241m.\u001b[39mwrite(chunk)\n\u001b[0;32m    238\u001b[0m \u001b[38;5;28mself\u001b[39m\u001b[38;5;241m.\u001b[39m_process\u001b[38;5;241m.\u001b[39mstdin\u001b[38;5;241m.\u001b[39mflush()\n",
      "File \u001b[1;32mc:\\Users\\quent\\venv\\xtts_stream\\lib\\site-packages\\ffmpeg\\utils.py:56\u001b[0m, in \u001b[0;36mread_stream\u001b[1;34m(stream, size)\u001b[0m\n\u001b[0;32m     54\u001b[0m \u001b[38;5;28;01mdef\u001b[39;00m \u001b[38;5;21mread_stream\u001b[39m(stream: IO[\u001b[38;5;28mbytes\u001b[39m], size: \u001b[38;5;28mint\u001b[39m \u001b[38;5;241m=\u001b[39m \u001b[38;5;241m-\u001b[39m\u001b[38;5;241m1\u001b[39m) \u001b[38;5;241m-\u001b[39m\u001b[38;5;241m>\u001b[39m Iterable[\u001b[38;5;28mbytes\u001b[39m]:\n\u001b[0;32m     55\u001b[0m     \u001b[38;5;28;01mwhile\u001b[39;00m \u001b[38;5;28;01mTrue\u001b[39;00m:\n\u001b[1;32m---> 56\u001b[0m         chunk \u001b[38;5;241m=\u001b[39m \u001b[43mstream\u001b[49m\u001b[38;5;241;43m.\u001b[39;49m\u001b[43mread\u001b[49m(size)\n\u001b[0;32m     57\u001b[0m         \u001b[38;5;28;01mif\u001b[39;00m \u001b[38;5;129;01mnot\u001b[39;00m chunk:\n\u001b[0;32m     58\u001b[0m             \u001b[38;5;28;01mbreak\u001b[39;00m\n",
      "\u001b[1;31mAttributeError\u001b[0m: 'generator' object has no attribute 'read'"
     ]
    }
   ],
   "source": [
    "audio_stream = tts(\n",
    "        text=text,\n",
    "        voice_id=voice_id,\n",
    "        language=language,\n",
    "        server_url=server_url,\n",
    "        stream_chunk_size=stream_chunk_size\n",
    "    )\n",
    "# stream_ffplay(audio_stream,args.output_file,bool(args.output_file))\n",
    "\n",
    "def ulaw_to_segment(segment: bytes) -> AudioSegment:\n",
    "    audio_data = audioop.ulaw2lin(segment, 2)\n",
    "    audio_data = audioop.ratecv(audio_data, 2, 1, 8000, 16000, None)[0]\n",
    "    return AudioSegment(audio_data, frame_rate=16000, channels=1, sample_width=2)\n",
    "\n",
    "# Try to do a header\n",
    "# with open('test.wav', 'wb') as wav_buff:\n",
    "#     header = b\"RIFF\\x00\\x00\\x00\\x00WAVEfmt \\x12\\x00\\x00\\x00\\x07\\x00\\x01\\x00@\\x1f\\x00\\x00@\\x1f\\x00\\x00\\x01\\x00\\x08\\x00\\x02\\x00\\x00\\x00fact\\x04\\x00\\x00\\x00\\x16\\xe8data\\x00\\x00\\x00\\x00\"\n",
    "#     wav_buff.write(b\"RIFF\\x00\\x00\\x00\\x00WAVEfmt \\x12\\x00\\x00\\x00\\x07\\x00\\x01\\x00@\\x1f\\x00\\x00@\\x1f\\x00\\x00\\x01\\x00\\x08\\x00\\x02\\x00\\x00\\x00fact\\x04\\x00\\x00\\x00\\x16\\xe8data\\x00\\x00\\x00\\x00\")\n",
    "#     # wav_buff.write(b\"RIFF\\x00\\x00\\x00\\x00WAVEfmt \\x12\\x00\\x00\\x00\\x07\\x00\\x01\\x00@\\x1f\\x00\\x00@\\x1f\\x00\\x00\\x01\\x00\\x08\\x00\\x02\\x00\\x00\\x00fact\\x04\\x00\\x00\\x00\\x16\\xe8\\x00\\x00LIST\\x1a\\x00\\x00\\x00INFOISFT\\r\\x00\\x00\\x00Lavf61.4.100\\x00\\x00data\\x00\\x00\\x00\\x00\")\n",
    "#     datalen = 0\n",
    "#     for i,chunk in enumerate(audio_stream):\n",
    "#         datalen+= len(chunk)\n",
    "#         wav_buff.write(chunk)\n",
    "#     wav_buff.seek(4)\n",
    "#     wav_buff.write(bytes(len(header)+datalen-4))\n",
    "#     wav_buff.seek(len(header)-4)\n",
    "#     wav_buff.write(bytes(datalen))\n",
    "# wav_buff.close()\n",
    "\n",
    "chunks = []\n",
    "for i,chunk in enumerate(audio_stream):\n",
    "    chunks.append(chunk)\n",
    "print(f\"{len(chunks)} chunks\")\n",
    "\n",
    "\n",
    "# Si la conversion est faite à la fin il n'y a pas de problème\n",
    "\n",
    "#     if i == 0:\n",
    "#         wave_data = AudioSegment(chunk, frame_rate=24000,channels=1,sample_width=2)\n",
    "#     else:\n",
    "#         wave_data += AudioSegment(chunk, frame_rate=24000,channels=1,sample_width=2)\n",
    "# AudioSegment.from_file(wave_data.export(out_f='test.wav',format=\"wav\",codec='pcm_mulaw',parameters=[\"-ar\",\"8000\"]))\n"
   ]
  },
  {
   "cell_type": "code",
   "execution_count": 11,
   "metadata": {},
   "outputs": [
    {
     "name": "stdout",
     "output_type": "stream",
     "text": [
      "Wav data reconstructed\n"
     ]
    },
    {
     "data": {
      "text/html": [
       "\n",
       "                    <audio controls>\n",
       "                        <source src=\"data:audio/mpeg;base64,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\" type=\"audio/mpeg\"/>\n",
       "                        Your browser does not support the audio element.\n",
       "                    </audio>\n",
       "                  "
      ],
      "text/plain": [
       "<pydub.audio_segment.AudioSegment at 0x1d7205e0bb0>"
      ]
     },
     "execution_count": 11,
     "metadata": {},
     "output_type": "execute_result"
    }
   ],
   "source": [
    "for i,chunk in enumerate(chunks):\n",
    "    if i == 0:\n",
    "        wav_segment = AudioSegment(chunk,frame_rate=24000,channels=1,sample_width=2)\n",
    "    else:\n",
    "        wav_segment += AudioSegment(chunk,frame_rate=24000,channels=1,sample_width=2)\n",
    "print('Wav data reconstructed')\n",
    "wav_segment"
   ]
  },
  {
   "cell_type": "code",
   "execution_count": 12,
   "metadata": {},
   "outputs": [
    {
     "name": "stdout",
     "output_type": "stream",
     "text": [
      "Wav data reconsructed then converted to ulaw then reopened in audioSegment\n"
     ]
    },
    {
     "data": {
      "text/html": [
       "\n",
       "                    <audio controls>\n",
       "                        <source src=\"data:audio/mpeg;base64,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\" type=\"audio/mpeg\"/>\n",
       "                        Your browser does not support the audio element.\n",
       "                    </audio>\n",
       "                  "
      ],
      "text/plain": [
       "<pydub.audio_segment.AudioSegment at 0x1d720369f40>"
      ]
     },
     "execution_count": 12,
     "metadata": {},
     "output_type": "execute_result"
    }
   ],
   "source": [
    "for i,chunk in enumerate(chunks):\n",
    "    if i == 0:\n",
    "        wav_segment = AudioSegment(chunk,frame_rate=24000,channels=1,sample_width=2)\n",
    "    else:\n",
    "        wav_segment += AudioSegment(chunk,frame_rate=24000,channels=1,sample_width=2)\n",
    "chunk_segment_ulaw = AudioSegment.from_file(wav_segment.export(format=\"wav\",codec='pcm_mulaw',parameters=[\"-ar\",\"8000\"]))\n",
    "print('Wav data reconsructed then converted to ulaw then reopened in audioSegment')\n",
    "chunk_segment_ulaw"
   ]
  },
  {
   "cell_type": "code",
   "execution_count": 13,
   "metadata": {},
   "outputs": [
    {
     "name": "stdout",
     "output_type": "stream",
     "text": [
      "Wav data converted to ulaw then reopened in audioSegment then reconstructed\n"
     ]
    },
    {
     "data": {
      "text/html": [
       "\n",
       "                    <audio controls>\n",
       "                        <source src=\"data:audio/mpeg;base64,SUQzBAAAAAAAIlRTU0UAAAAOAAADTGF2ZjYxLjEuMTAwAAAAAAAAAAAAAAD/4zjAAAAAAAAAAAAASW5mbwAAAA8AAABQAAAXWAAMDxIVGBgbHiElJSgrLjExNDc6PT1AQ0ZKSk1QU1ZWWVxfYmJlaGtvb3J1eHt7foGEh4eKjZCUlJeanaCgo6aprKyvsrW5uby/wsXFyMvO0dHU19re3uHk5+rq7fDz9vb5/P8AAAAATGF2YzYxLjMuAAAAAAAAAAAAAAAAJARRAAAAAAAAF1jLHGuMAAAAAAAAAAAAAAAAAAAAAAAAAAAAAAAAAAAAAAAAAAAAAAAAAAAAAAAAAAAAAAD/4xjEAApQWmABSQABAwSLgmCYbJ0YrBAEBQgYz0oK0be/4YZHDw8AAAAAAw8PDw8AM////8PVvWM4GnI+/JBJTU3iqimDTGv/4xjEERDoysABmSgA7X4Kir6peCUFJ7SovLKTkQ1VkKFkX+vz4mhndgd2fWxNRks//GJH9P/0P3//uV80//9SoBP/8DQ29JL/4xjECA8ZOtmR0CgAdRNCkhAIOad/oJl4c8aBeLiZsgnXcmBmDyfduYEAHA0n8Pgpnf9VIHU9oYf6/yf1fs+L/VWYYAiSI4j/4xjEBg6BauZ4apBUAhX7rWZCChjKL8qrsgzgKqb/qMglud/oQhYb/RRcX0vKxVwgTXfV8S0SeF3Mc/GUdP//6T4b6cqF+B3/4xjEBw3Q1tgoUcxMLt/EcHYGAFF1/j4hCwBz9XPJsicWE49RwgDN+wTHcoLGXakgNe/IJIIvKTnxP+f61YqqIW4A4yVtfmD/4xjECg4KxwZYUAVGCpQ5HvkY/C7KD+XVDvH12XNRc7/0Vv/b/3/+b//R+/4Y7c71cEDTRWZ6xM7rEqqAIAkZTpHfkDATiFP/4xjEDAwgosTgC8wIlr5ppMg53RKmmKzewddoElkYZkHSLnRnQGun///////9rXSxWm/TRE2BI0/RaU5RzJTV//mrKcxYJWf/4xjEFgxgrtQAa8ZI3/lQOBv5R3u8P9Ig8T//7v7EPioqKtK4o1n+unKAA7bQAG+rGALACGfXUmb+YNBaAEJT9TgY5PkIRb//4xjEHwypTvJYOIaoqhAY5W93cJXJIiISKCPHXyYQf13hcz+5wy36CYmb/zMEA+Sy+wtGKw2QX8ucECBh/V73+Cz2OJiHBw7/4xjEJwsg9uQAAdIQHy58Hz6VexsGC35AAN+hDGf0Q516kCHBrKzDjiQgr60VfVK+v3/+3vlZDIjlZAIzFMVBcT7FqvG/gLL/4xjENQwJ9vCoAcQApvRxIAAUPo7SYUooWu0eHRlZFKVpLsMkQJE0t+xVAQd5b///8ryoLChpIFrEN3/jcAt8cAYAd5hCcDT/4xjEPwvg3uCgOhIsY9zRBYCpddgrlhg0emGjgpEkcKs5G6waYt//+sAwKWfb3avRhrwwGXzAKwZT1JtguWG6b4QCq/7ajuf/4xjESgy4gt24OwYg9lIqvmEC99oCcUBA4AwfPjXse4xe3//+2GBBOWpAKlCr9wMFE6ID0Ojq7oKtQpLIT/V9qq52T5rhHh7/4xjEUgzouszwawwgUlKy8Zizt2//wuNE6nBk2Od//////2W3f/bbi8ZewriFCxVyTouIkm/m8sLGbJAeLxUgH3HUJHkajbL/4xjEWQ0o5szwQEZI3/+ZxVxDROXkgptcQ////WoCSWtJ1gN8q7By5c2f6e16XD8k12bJVGN4lItjFjTftS16EC++uBXTLXX/4xjEXw0YNyJYCEQCpJh1M6zDoK9dNVUuC2yW2UBfN+yr/oiMXONl4P89l5GmjkZnUmuBo1wnyG/9b0vZThv7qnoYKrlo9bT/4xjEZQ0I0r5QEAYAkk7LbbbbABm8s/YIBHHf0cJJL3u29tk9gQMhga48Rka9VaF0SKbxSlq1ruHiyqydJVzhTVVJtySSWAD/4xjEawwp1uZYCIFCErZlrsxN/lP2MwzBSAgFzkUJaPAOF85ao/RW9nm/JKXV5S7hFCADO5VytQnU/wBVrYlAbHoNKAUqooz/4xjEdQzYvuJYEEZG2axz6zM3eZ0Xk2TK1zyUtc1761fS+uIvYr9jIqxzOrr3WwCAQ5NqyqpOZc1JwqPqfdcRH1df/GfrMHH/4xjEfAy5ttJYGEQevm28NK60Y9ef/UBq6ar71qn3fS3DW2QQMs999V/EesrxqyjPbvtyp+32q+hkzzUXPs5lt7SmJe5v//3/4xjEhAv4FpwpSAAA3c3///kFWe6VBa/lQJTGxy09ksBUkRQ6xd0qqx7D6xUPmFmcgL0LNFHKLvTPy9DGqpMH93VwjbF01///4xjEjxcQeowpjxgB//Tv0m/5JLZGxu5mTPM3R2CrNXG2rHr1pmPHapTzeR7USHa28t5fxU/W2Ny8pzuyWVjWx1XjCYNrvDz/4xjEbQ14JpTxyQAAWlJRSO/pQbo+oeIocw+6BKYs6CY4zSad/v/qBCqyoJg5MjQSjsdAwECcVY9zGHtqaC/TOnR252uefkT/4xjEchSB1sW5QzACMzLR90av/6nVTyNfbq69P2IxGtpbo27XTlZWb53dDsO591tycjIRmS01zGQ4wEICqtNCfA9DDHiiTij/4xjEWxbqwpgxixAAzRfnJZG2wrTaVm1G/zs53A1+4lF5SdPidZhHmmSL1j5CNWPhS9DnoJCGKVKxWsnJLmYJsXLsL2lV7hf/4xjEOhOBgqm5yBgAK5fYtLCKMEO1I1K7+z9MKOnIicoGq+QGLEhDedDohAqizzunFKHMXjJgwhiLrCK2jJQcwsxRFKV3taT/4xjEJwvoFpjwWIYAyLzfepnUh39KCSccaAHI02aDbxM8cW7x9nl0iwCFrFUMMmhpQSD0mRVe0XrGi4qSjGpZUfGSLFzdiV7/4xjEMg0AFqEZSRgAr+sAr8DqqGIICKu4KSwcdalay3/vKDT82ZpPWPB8fPO3rsNFDTBM+7hodUhRWZmmPXUnEjQZLEBYyRf/4xjEORWoypSpjBAADbPjFqS+WDWXEzGwSa5wgQgBrlGeFwYENnxR4DE1rSG4ayiDU1kNgju/mrk3H8mBsGtAV7GiFQOQ137/4xjEHRRLmswBjzgBTs+yHNZ0j5zNjSN2qBWNNP9v+n///9///////6v+/+up0w/+8pu1df//+qus8z/VbqiDi6rAAwPIbzn/4xjEBgyAkuGRyhAAFBEI6t4+G5AZfcVREjpO7c4mMd////+/6tHpdapf//RX9rpRj0qJmDR9lgz3W94iI4AFRU36BIDAjLb/4xjEDwx4yzp5SBACiS6B0WOv42cTB8AFFo7mcGpT//kD18BckaoiMzxYWtT9L9U8xLGzJrNygVKAAuP/K0SRBW/ddzcnAp7/4xjEGBHpmsABjYAAEv+tOaWkyIJhZg4Z/7fxbDdM6X3Yz/+2ghTTp1mbiZv/lwIcfGEov//fu///9KiaQpgEVdRf/7hUZdv/4xjECwyxOupBy1gA3unlg8Luc/2P6H0///wwA0A4PJNqImFGhIyv/nVofodfwzTVMJTwUt6APr7u3mXy4DxPUz03gSpTgnL/4xjEEwzo3t2BTBAA5dubBA+etGR98zNLbRcdGT0zOTXLSFO6jsKpFwmJakyVBFGsKBwHFiMp73L07ml6tsjIVHSXb90KRZX/4xjEGhJSMrQBhRAAv5f9Enc7KyEVjTH1/0qiorLQqH1SWxk6SEiGAhMG2hoNgYGURpb3/gikcEjH3rqVLkkkgGv/8w1GFWL/4xjECw04ouJBzxgAYl6gxWbL1Dxbx7l+RMKFRwLmSMQUTYbR5vHlG1Xsq3E2gBjwYNOeOJ8ygckkTAa9gsOWFU9NSSRGnr7/4xjEEQ0IftEYEYwA0csFWRZJwNJDQucQgIdQo92YqtSFH8W9cb7f9K514AQ61HRVPwRfm5UAolo9uwHAgBuGBGMWoGR4wDf/4xjEFwwgntzICx4KzSLyjlmOzw1eoIMYFsgf///////+567wqaWBqVlt5yCbGTr+gACI0sq6RIlKJCCLaFbUKHrETb7v7VL/4xjEIQygttDIC9IAR2liJv/1/3f/f/yW3Wz///6VgDUkkgAZfKIiAHfw0DF+QFZSUXC5PP+TMOQAgSQ3Pftdt+jbkOXbpAH/4xjEKQzg7vW4KFIs3Tk4BBOCBzLn+QVqP1CABgFGPuyHqMm7NFtr7ORUqx/5xLoTFbf3tNEIZJTs18s/r/5HwV6g5xKDT2//4xjEMAvAytgAO9JA1F8CaO1mqcxKonAiVJXWaGIfH1y1ukPIXXa2fSaAen/7lAQyff8WVEGT7/2wq/UG3aEKwBPAB7UmbqH/4xjEPAzZKtAAgxZgwBjI79hi5QbCq/bLUsGS7tNETsru00iVh6CwSBaKiMAljwFCoOmTIsTAPt9NRvvugFf7JqIMOrZmCTj/4xjEQw0outlwakwgCEQqAhYThIGXMQRAQSkkH4+bxuVlYp2OU8kplate13W6lFTX1qt1eJPBslAln/6CcFYdFsWNr6/lVqj/4xjESQw4QsGRRgAA1fjpLKCvKx+EoJc4Si0QUljoev8eaaZQzeOJyeNs4QP/0DRay+m5gej4asw5Hl8o9f+pV9tfWfPElO//4xjEUxbSHtABj2gA/9VFn/9FP+Wqve95CfDN5C83MlHlNbXIJXBIrq23JltC/3d5tZzlEAOVL9//oCbiQSOgRJ8IqLVi8dT/4xjEMhgpwsgBmGgAflcojbMyTc2WPyKRik/+5sQKhMU2EBzE1UZEs9FH/5iaJiRxV6Tqqv+5f//9akVoSiJqsPBUGg649X7/4xjEDA8JrsgBijgASD8UCL/y5cQAhP/xePkwfg/L//+Dggo+TnN///nkJhPNG7//pDARH0f/////+0M0qv//6AqRAaziPsP/4xjECg5CIvzJhzgAQ7LaM9CeOc5p43a4iDqH4znqI42eKQnarpHyWPPv1/k7y3mapp+2hzf+bt/8eeiuRuTbW4BUu74xhAD/4xjEDA+ouxJZxhgCT+kqTOCDAEzMVyY9BDM8Ze5/3fEUa8OmxA4NsE49o0kYMOFxfFP6XamAAEAACCDHbS9FqTTkm1oANJT/4xjECA8hUw5YQYRP+MMAROv91AmH3dnhalNmdzkwWWvIfDmf7L+7/y0kY5DPtOHDylMOU03RnnS3d81gY7HJsKWR6/10F2//4xjEBgypHtTAC9AELf5w+lQYqsNJtBGbarDYOh9bfSsAO0dQxZoB4/WihBCNqiOYLPc0YWD98/yaX6FcPT3NnWoXWiKLDCn/4xjEDgtwjtgACwYEEX5gwFVQK4NYSfzzvzv///////6daLLFOy7wQSh8gF5fvHGGhO/nXvcE0tp1t9s7A+U/+aMLDBDOxAH/4xjEGwywktQAC9gAg///////+r3P5Osn//I8qGlJEgdrSgimoAAdAAZqnHapBDs/Y9AQZ9WUWOCk2/tNMcaHMg0HWOT/////4xjEIwyghuZQMIxA///4vgrijLP//8tKhS9Z2sQC5gABdahD/QQwh7+0Fr/4JQWZvYHTA+bvSyV1Hv///////+VDuVDbRYP/4xjEKwywpvJZSAAAq5Kn//KjSyJu3PAgTHv7H/z1cw5kf8XQhFmihU//6Ebpc//nXch3ILlOyFRCOv/6kuKAcaMUdi5YiUX/4xjEMxAKMtQBhygAh4ofJf1p///6Zqn9dFX3fWb7CAA0y9mwfHtX1IdnVXVIWMHXfXpV/wiV8mIgcGPFXTABnZboAGc+nt3/4xjELQwpBzZZyBgC7v//cs+EHbSg2pOEBgJeYoMBK2tQEvpK3KGHKVnRXKAl+oCuMO4anoKgr/1dX/9Kh4Knf////Dsskuj/4xjENwz45u25QhgAIRhpkKA2AmbM+IrtN6bP+H+Zmzj35z3zGHEf/PbJUZCg5f/2JYnllLqYE//50Z0Z7PYCDBwwQOQCZHf/4xjEPhVKuqwBixAA//z53nXV9Aw4DIBkFiX/ROFDnwVJExKqd5maiIiBwAJCCqRhnU+qhkVpEbdUiHxUo6/8aUwSBsxWJDz/4xjEIwyYtzMZwxACEzIxIDQ3vr//7kioqYC1FRXmHVXzLAYqYQLkFAdixZ5FjZ4uARC4dJblXtUPfJRi51FYT1Xyuk8xolD/4xjEKw0gEqTISEYAys79UNp1RL/+tVLv4aZf8cFZuVn3oyPrpXd0qtNGMDDJ1BEJPUSFAkaYAglQwNI7r2nnLApH9a/Tb///4xjEMQ0gpsp5QhgA//q4xQACDAIg0Ikkok0Hp6fzZ7ZND9zToDsFXOEdJvV3ss09eq5/t4iC440hsZUS2emXaCTmTyUpHe3/4xjENxGwMp5ZjBAAXMrYIT4WSh7H/8t62ARQbZcrTUOBgo9an+ABrVFvTO49PN8cJaAFl6d4FdQkuihKRbPn+kTlA0UIxdv/4xjEKxMwWpQxjBAA1upHvdvJiouxaU6lC42ZLqQBGUvF+SJi55/pFUod7Sx2Pf0DGBwir2W1HwGGSZouc7K3ETZut7WDZJj/4xjEGQwQHpQpzBAAM0uUbSHVNWmzp8Vu//+lVq0vZv//+vrVvgI1h7LThdIOAhFtlpAvCISiM1RCYRIAmEXqd7gDoBUxUJX/4xjEIw0gUpAoWkYEscFZNVzBRH/rrb6Fr/bZd/61DIMm0O4BAPvVP6MsAmjXx0bYHsCYHy237CGWzg8AZQLBgpY1dJDKCd//4xjEKQwQisAAC9gAnxACHkO8gpX/ML2rNv8rCmAjfIp67cx+XCAj3Wa13GnfdbbNH2nbWNiWwzQxXWOu8qdtEt3//92R/3L/4xjEMwyorszJWAAAYjwDeHtEgJBXY6T6IoMLmSZPGqObzqSJFi8l7GpFzcrP/ziAmOV///dUJOqf//5ynOHGQYIi///f/Of/4xjEOxebosQBkigAEA8KMTcpv//9t/MpxMYJqxhI4cKLf//293/8VUo8PBEYGmHVrU8JyUxBwEFLb+Tq/3JnJ1szjmZtyEf/4xjEFwvQusgBzBAAm/3pot+Zri6AUakEA+LLB95l4BUxvnvllYAAkKg9PdIFWR6sWKKJ2vaoPxAOdukMRsljCpJNvfLCXqr/4xjEIgyIntmQatIo7wCro///0cQI2cMf//9HECrtqpVeIG4BZhWULBGeD0zvUat9TSDpNPHTfzW+pv8rf/sFEois7WNO5Fv/4xjEKg1BIyp5RxAC//v55dQlLYlSW5J0CoVCoVCgVCsV5/0ABDBfVhGx/+TwNIeTSj/+G2AoJCTVnfisJxoAeDsuogDZoLD/4xjEMBgJ8vZZiTgAX/6KfMnnqWPOHzjS//zDLDimnmVq5k4z/+SNJscqMhwELv+/qc/9f/DzwILkPWaM1amV5UkFIMV/6ir/4xjECgxhBugByBgBt//kzf8Myz/swtI2q4KFh5ok/gZnGEn/BqnxfHOrNpd8XkzopvefpQABKEDBjPcYAjASJv1HxN+pz33/4xjEEwywvs4xShgAW1N+rkIBMAUKPpkQ0o8DJZ507JLG2hLDpIkeWz//9iUBSiyjyQSCQACR3BCFlLumi/2MiJf1d2QjFMz/4xjEGxNBvrGZhSgADjv6IdXe5U//qhWVSoiM2tt//OUWPGGgkXEJR6hzfqOAcmdGLeCcWUdGP/UwtLs6QKssAYAQaehZWIr/4xjECQrwMhwByQAAMmg7ESj34NDD0RBwRHoNKBr8S/4Nf4K8qdErv//4l/xF1HlMQU1FMy4xMDBVVVVVVVVVVVVVVVVVVVX/4xjEGAAAA0gAAAAAVVVVVVVVVVVVVVVVVVVVVVVVVVVVVVVVVVVVVVVVVVVVVVVVVVVVVVVVVVVVVVVVVVVVVVVVVVVVVVX/4xjEUwAAA0gAAAAAVVVVVVVVVVVVVVVVVVVVVVVVVVVVVVVVVVVVVVVVVVVVVVVVVVVVVVVVVVVVVVVVVVVVVVVVVVVVVVU=\" type=\"audio/mpeg\"/>\n",
       "                        Your browser does not support the audio element.\n",
       "                    </audio>\n",
       "                  "
      ],
      "text/plain": [
       "<pydub.audio_segment.AudioSegment at 0x1d720369ca0>"
      ]
     },
     "execution_count": 13,
     "metadata": {},
     "output_type": "execute_result"
    }
   ],
   "source": [
    "for i,chunk in enumerate(chunks):\n",
    "    wav_segment = AudioSegment(chunk,frame_rate=24000,channels=1,sample_width=2)\n",
    "    if i == 0:\n",
    "        chunk_segment_ulaw = AudioSegment.from_file(wav_segment.export(format=\"wav\",codec='pcm_mulaw',parameters=[\"-ar\",\"8000\"]))\n",
    "    else:\n",
    "        chunk_segment_ulaw += AudioSegment.from_file(wav_segment.export(format=\"wav\",codec='pcm_mulaw',parameters=[\"-ar\",\"8000\"]))\n",
    "print('Wav data converted to ulaw then reopened in audioSegment then reconstructed')\n",
    "chunk_segment_ulaw"
   ]
  },
  {
   "cell_type": "code",
   "execution_count": 39,
   "metadata": {},
   "outputs": [
    {
     "name": "stdout",
     "output_type": "stream",
     "text": [
      "Wav data reconsructed then converted to ulaw with other method\n"
     ]
    },
    {
     "data": {
      "text/html": [
       "\n",
       "                    <audio controls>\n",
       "                        <source src=\"data:audio/mpeg;base64,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\" type=\"audio/mpeg\"/>\n",
       "                        Your browser does not support the audio element.\n",
       "                    </audio>\n",
       "                  "
      ],
      "text/plain": [
       "<pydub.audio_segment.AudioSegment at 0x1d72094ad30>"
      ]
     },
     "execution_count": 39,
     "metadata": {},
     "output_type": "execute_result"
    }
   ],
   "source": [
    "def wav_to_ulaw(wav_file: io.BytesIO) -> bytes:\n",
    "    segment = AudioSegment.from_wav(wav_file)\n",
    "    segment = segment.set_frame_rate(8000)\n",
    "    segment = segment.set_channels(1)\n",
    "    segment = segment.set_sample_width(2)\n",
    "    ulaw_audio = audioop.lin2ulaw(segment.raw_data, 2)\n",
    "    return ulaw_audio\n",
    "\n",
    "for i,chunk in enumerate(chunks):\n",
    "    if i == 0:\n",
    "        wav_segment = AudioSegment(chunk,frame_rate=24000,channels=1,sample_width=2)\n",
    "    else:\n",
    "        wav_segment += AudioSegment(chunk,frame_rate=24000,channels=1,sample_width=2)\n",
    "ulaw_bytes = wav_to_ulaw(wav_segment.export(format='wav'))\n",
    "print('Wav data reconsructed then converted to ulaw with other method')\n",
    "AudioSegment(ulaw_bytes, frame_rate=8000,channels=1,sample_width=2)\n"
   ]
  },
  {
   "cell_type": "code",
   "execution_count": null,
   "metadata": {},
   "outputs": [],
   "source": []
  },
  {
   "cell_type": "code",
   "execution_count": 19,
   "metadata": {},
   "outputs": [
    {
     "ename": "FFmpegError",
     "evalue": "Error opening input files: Invalid data found when processing input",
     "output_type": "error",
     "traceback": [
      "\u001b[1;31m---------------------------------------------------------------------------\u001b[0m",
      "\u001b[1;31mFFmpegError\u001b[0m                               Traceback (most recent call last)",
      "Cell \u001b[1;32mIn[19], line 11\u001b[0m\n\u001b[0;32m      7\u001b[0m \u001b[38;5;129m@ffmpeg\u001b[39m\u001b[38;5;241m.\u001b[39mon(\u001b[38;5;124m\"\u001b[39m\u001b[38;5;124mprogress\u001b[39m\u001b[38;5;124m\"\u001b[39m)\n\u001b[0;32m      8\u001b[0m \u001b[38;5;28;01mdef\u001b[39;00m \u001b[38;5;21mon_progress\u001b[39m(progress: Progress):\n\u001b[0;32m      9\u001b[0m     \u001b[38;5;28mprint\u001b[39m(progress)\n\u001b[1;32m---> 11\u001b[0m \u001b[43mffmpeg\u001b[49m\u001b[38;5;241;43m.\u001b[39;49m\u001b[43mexecute\u001b[49m\u001b[43m(\u001b[49m\u001b[43mbuffer\u001b[49m\u001b[43m)\u001b[49m\n",
      "File \u001b[1;32mc:\\Users\\quent\\venv\\xtts_stream\\lib\\site-packages\\ffmpeg\\ffmpeg.py:204\u001b[0m, in \u001b[0;36mFFmpeg.execute\u001b[1;34m(self, stream, timeout)\u001b[0m\n\u001b[0;32m    202\u001b[0m     \u001b[38;5;28mself\u001b[39m\u001b[38;5;241m.\u001b[39memit(\u001b[38;5;124m\"\u001b[39m\u001b[38;5;124mterminated\u001b[39m\u001b[38;5;124m\"\u001b[39m)\n\u001b[0;32m    203\u001b[0m \u001b[38;5;28;01melse\u001b[39;00m:\n\u001b[1;32m--> 204\u001b[0m     \u001b[38;5;28;01mraise\u001b[39;00m FFmpegError\u001b[38;5;241m.\u001b[39mcreate(message\u001b[38;5;241m=\u001b[39mfutures[\u001b[38;5;241m2\u001b[39m]\u001b[38;5;241m.\u001b[39mresult(), arguments\u001b[38;5;241m=\u001b[39m\u001b[38;5;28mself\u001b[39m\u001b[38;5;241m.\u001b[39marguments)\n\u001b[0;32m    206\u001b[0m \u001b[38;5;28;01mreturn\u001b[39;00m futures[\u001b[38;5;241m1\u001b[39m]\u001b[38;5;241m.\u001b[39mresult()\n",
      "\u001b[1;31mFFmpegError\u001b[0m: Error opening input files: Invalid data found when processing input"
     ]
    }
   ],
   "source": [
    "ffmpeg = FFmpeg().option(\"y\").input(\"pipe:0\").output(\"output.wav\")\n",
    "\n",
    "buffer = io.BytesIO()\n",
    "for i,chunk in enumerate(chunks):\n",
    "    buffer.write(chunk)\n",
    "\n",
    "@ffmpeg.on(\"progress\")\n",
    "def on_progress(progress: Progress):\n",
    "    print(progress)\n",
    "\n",
    "ffmpeg.execute(buffer)"
   ]
  },
  {
   "cell_type": "code",
   "execution_count": null,
   "metadata": {},
   "outputs": [],
   "source": []
  }
 ],
 "metadata": {
  "kernelspec": {
   "display_name": "xtts_stream",
   "language": "python",
   "name": "python3"
  },
  "language_info": {
   "codemirror_mode": {
    "name": "ipython",
    "version": 3
   },
   "file_extension": ".py",
   "mimetype": "text/x-python",
   "name": "python",
   "nbconvert_exporter": "python",
   "pygments_lexer": "ipython3",
   "version": "3.10.0"
  }
 },
 "nbformat": 4,
 "nbformat_minor": 2
}
