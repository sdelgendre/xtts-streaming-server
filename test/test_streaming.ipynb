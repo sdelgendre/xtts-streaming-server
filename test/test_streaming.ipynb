{
 "cells": [
  {
   "cell_type": "code",
   "execution_count": 1,
   "metadata": {},
   "outputs": [],
   "source": [
    "import argparse\n",
    "import json\n",
    "import shutil\n",
    "import subprocess\n",
    "import sys\n",
    "import time\n",
    "from typing import Iterator\n",
    "import os\n",
    "import requests\n",
    "import audioop\n",
    "from pydub import AudioSegment\n",
    "from types import SimpleNamespace\n"
   ]
  },
  {
   "cell_type": "code",
   "execution_count": 2,
   "metadata": {},
   "outputs": [],
   "source": [
    "\n",
    "def convert_wav_chunk_to_ulaw_chunk(wav_chunk, sample_width=2): \n",
    "    # The sample_width parameter corresponds to the number of bytes used per sample, default is 2 for 16-bit audio\n",
    "    \n",
    "    if sample_width not in {1, 2, 4}:\n",
    "        raise ValueError(\"sample_width must be 1, 2, or 4\")\n",
    "        \n",
    "    # Convert the WAV audio chunk to u-Law encoding \n",
    "    try:\n",
    "        ulaw_chunk = audioop.lin2ulaw(wav_chunk, sample_width) \n",
    "    except audioop.error as e:\n",
    "        print(f\"Error converting WAV chunk to u-Law: {e}\")\n",
    "        return None\n",
    "    \n",
    "    return ulaw_chunk\n"
   ]
  },
  {
   "cell_type": "code",
   "execution_count": 3,
   "metadata": {},
   "outputs": [],
   "source": [
    "\n",
    "def is_installed(lib_name: str) -> bool:\n",
    "    lib = shutil.which(lib_name)\n",
    "    if lib is None:\n",
    "        return False\n",
    "    return True\n"
   ]
  },
  {
   "cell_type": "code",
   "execution_count": 4,
   "metadata": {},
   "outputs": [],
   "source": [
    "\n",
    "def save(audio: bytes, filename: str) -> None:\n",
    "    with open(filename, \"wb\") as f:\n",
    "        f.write(audio)\n"
   ]
  },
  {
   "cell_type": "code",
   "execution_count": 5,
   "metadata": {},
   "outputs": [],
   "source": [
    "\n",
    "def stream_ffplay(audio_stream, output_file, save=True):\n",
    "    if not save:\n",
    "        ffplay_cmd = [\"ffplay\", \"-nodisp\", \"-probesize\", \"1024\", \"-autoexit\", \"-\"]\n",
    "    else:\n",
    "        print(\"Saving to \", output_file)\n",
    "        # ffplay_cmd = [\"ffmpeg\", \"-probesize\", \"1024\", \"-i\", \"-\", '-ar', '8000', output_file]\n",
    "        ffplay_cmd = [\"ffmpeg\", \"-probesize\", \"1024\",'-c:a', 'pcm_mulaw', '-ar', '8000', output_file, \"-i\", '-']\n",
    "\n",
    "    ffplay_proc = subprocess.Popen(ffplay_cmd, stdin=subprocess.PIPE)\n",
    "    for chunk in audio_stream:\n",
    "        if chunk is not None:\n",
    "            ffplay_proc.stdin.write(chunk)\n",
    "\n",
    "    # close on finish\n",
    "    ffplay_proc.stdin.close()\n",
    "    ffplay_proc.wait()\n"
   ]
  },
  {
   "cell_type": "code",
   "execution_count": 6,
   "metadata": {},
   "outputs": [],
   "source": [
    "\n",
    "def tts(text, speaker, language, server_url, stream_chunk_size) -> Iterator[bytes]:\n",
    "    start = time.perf_counter()\n",
    "    speaker[\"text\"] = text\n",
    "    speaker[\"language\"] = language\n",
    "    speaker[\"stream_chunk_size\"] = stream_chunk_size  # you can reduce it to get faster response, but degrade quality\n",
    "    speaker[\"add_wav_header\"] = False\n",
    "    res = requests.post(\n",
    "        f\"{server_url}/tts_stream/ulaw\",\n",
    "        json=speaker,\n",
    "        stream=True,\n",
    "    )\n",
    "    end = time.perf_counter()\n",
    "    print(f\"Time to make POST: {end-start}s\", file=sys.stderr)\n",
    "\n",
    "    if res.status_code != 200:\n",
    "        print(\"Error:\", res.text)\n",
    "        sys.exit(1)\n",
    "\n",
    "    first = True\n",
    "    for chunk in res.iter_content(chunk_size=512):\n",
    "        if first:\n",
    "            end = time.perf_counter()\n",
    "            print(f\"Time to first chunk: {end-start}s\", file=sys.stderr)\n",
    "            first = False\n",
    "        if chunk:\n",
    "            yield chunk\n",
    "\n",
    "    print(\"⏱️ response.elapsed:\", res.elapsed)\n",
    "\n"
   ]
  },
  {
   "cell_type": "code",
   "execution_count": 7,
   "metadata": {},
   "outputs": [],
   "source": [
    "\n",
    "def get_speaker(ref_audio,server_url):\n",
    "    files = {\"wav_file\": (\"reference.wav\", open(ref_audio, \"rb\"))}\n",
    "    response = requests.post(f\"{server_url}/clone_speaker\", files=files)\n",
    "    return response.json()\n"
   ]
  },
  {
   "cell_type": "code",
   "execution_count": 8,
   "metadata": {},
   "outputs": [],
   "source": [
    "args = SimpleNamespace()\n",
    "server_url = os.getenv(\"SERVER_URL\", \"http://15.237.142.70:8000\")\n",
    "text = \"Mon nom est Yoann, et je pense que c'est vraiment sympa de manger des crêpes, vous ne trouvez pas ?\"\n",
    "language = 'fr'\n",
    "ref_file = None\n",
    "stream_chunk_size = 30\n",
    "file_counter = 0\n",
    "output_file = \"./test_outputs/output_french\"\n",
    "while os.path.isfile(output_file+str(file_counter)+'.wav'):\n",
    "    file_counter += 1\n",
    "output_file = output_file+str(file_counter)+'.wav'\n",
    "\n",
    "args.text = text\n",
    "args.language = language\n",
    "args.output_file = output_file\n",
    "args.ref_file = ref_file\n",
    "args.server_url = server_url\n",
    "args.stream_chunk_size = stream_chunk_size\n",
    "\n",
    "\n",
    "speaker_file_path = os.path.join(os.path.curdir,\"french_speaker3.json\")\n",
    "\n",
    "with open(speaker_file_path, \"r\") as file:\n",
    "    speaker = json.load(file)\n",
    "\n",
    "if args.ref_file is not None:\n",
    "    print(\"Computing the latents for a new reference...\")\n",
    "    speaker = get_speaker(args.ref_file, args.server_url)"
   ]
  },
  {
   "cell_type": "code",
   "execution_count": 21,
   "metadata": {},
   "outputs": [
    {
     "name": "stderr",
     "output_type": "stream",
     "text": [
      "Time to make POST: 0.2364425000268966s\n",
      "Time to first chunk: 1.8704676000052132s\n"
     ]
    },
    {
     "ename": "TypeError",
     "evalue": "object.__init__() takes exactly one argument (the instance to initialize)",
     "output_type": "error",
     "traceback": [
      "\u001b[1;31m---------------------------------------------------------------------------\u001b[0m",
      "\u001b[1;31mTypeError\u001b[0m                                 Traceback (most recent call last)",
      "Cell \u001b[1;32mIn[21], line 17\u001b[0m\n\u001b[0;32m     15\u001b[0m \u001b[38;5;28;01mfor\u001b[39;00m i,chunk \u001b[38;5;129;01min\u001b[39;00m \u001b[38;5;28menumerate\u001b[39m(audio_stream):\n\u001b[0;32m     16\u001b[0m     \u001b[38;5;28;01mif\u001b[39;00m i \u001b[38;5;241m==\u001b[39m\u001b[38;5;241m0\u001b[39m:\n\u001b[1;32m---> 17\u001b[0m         wav_data \u001b[38;5;241m=\u001b[39m \u001b[43mAudioSegment\u001b[49m\u001b[43m(\u001b[49m\u001b[43mchunk\u001b[49m\u001b[43m,\u001b[49m\u001b[43m \u001b[49m\u001b[38;5;28;43mformat\u001b[39;49m\u001b[38;5;241;43m=\u001b[39;49m\u001b[38;5;124;43m'\u001b[39;49m\u001b[38;5;124;43mulaw\u001b[39;49m\u001b[38;5;124;43m'\u001b[39;49m\u001b[43m,\u001b[49m\u001b[43mframe_rate\u001b[49m\u001b[38;5;241;43m=\u001b[39;49m\u001b[38;5;241;43m8000\u001b[39;49m\u001b[43m,\u001b[49m\u001b[43msample_width\u001b[49m\u001b[38;5;241;43m=\u001b[39;49m\u001b[38;5;241;43m2\u001b[39;49m\u001b[43m,\u001b[49m\u001b[43mchannels\u001b[49m\u001b[38;5;241;43m=\u001b[39;49m\u001b[38;5;241;43m1\u001b[39;49m\u001b[43m)\u001b[49m\n\u001b[0;32m     18\u001b[0m     wav_data\u001b[38;5;241m+\u001b[39m\u001b[38;5;241m=\u001b[39mAudioSegment(chunk, \u001b[38;5;28mformat\u001b[39m\u001b[38;5;241m=\u001b[39m\u001b[38;5;124m'\u001b[39m\u001b[38;5;124mulaw\u001b[39m\u001b[38;5;124m'\u001b[39m,frame_rate\u001b[38;5;241m=\u001b[39m\u001b[38;5;241m8000\u001b[39m,sample_width\u001b[38;5;241m=\u001b[39m\u001b[38;5;241m2\u001b[39m,channels\u001b[38;5;241m=\u001b[39m\u001b[38;5;241m1\u001b[39m)\n\u001b[0;32m     21\u001b[0m \u001b[38;5;28;01mwith\u001b[39;00m wave2\u001b[38;5;241m.\u001b[39mopen(\u001b[38;5;124m\"\u001b[39m\u001b[38;5;124mtest2.ulaw\u001b[39m\u001b[38;5;124m\"\u001b[39m, \u001b[38;5;124m'\u001b[39m\u001b[38;5;124mwb\u001b[39m\u001b[38;5;124m'\u001b[39m) \u001b[38;5;28;01mas\u001b[39;00m f:\n",
      "File \u001b[1;32mc:\\Users\\helpd\\envs\\xtts_stream\\lib\\site-packages\\pydub\\audio_segment.py:258\u001b[0m, in \u001b[0;36mAudioSegment.__init__\u001b[1;34m(self, data, *args, **kwargs)\u001b[0m\n\u001b[0;32m    255\u001b[0m     \u001b[38;5;28mself\u001b[39m\u001b[38;5;241m.\u001b[39msample_width \u001b[38;5;241m=\u001b[39m \u001b[38;5;241m4\u001b[39m\n\u001b[0;32m    256\u001b[0m     \u001b[38;5;28mself\u001b[39m\u001b[38;5;241m.\u001b[39mframe_width \u001b[38;5;241m=\u001b[39m \u001b[38;5;28mself\u001b[39m\u001b[38;5;241m.\u001b[39mchannels \u001b[38;5;241m*\u001b[39m \u001b[38;5;28mself\u001b[39m\u001b[38;5;241m.\u001b[39msample_width\n\u001b[1;32m--> 258\u001b[0m \u001b[38;5;28msuper\u001b[39m(AudioSegment, \u001b[38;5;28mself\u001b[39m)\u001b[38;5;241m.\u001b[39m\u001b[38;5;21m__init__\u001b[39m(\u001b[38;5;241m*\u001b[39margs, \u001b[38;5;241m*\u001b[39m\u001b[38;5;241m*\u001b[39mkwargs)\n",
      "\u001b[1;31mTypeError\u001b[0m: object.__init__() takes exactly one argument (the instance to initialize)"
     ]
    }
   ],
   "source": [
    "audio_stream = tts(\n",
    "        args.text,\n",
    "        speaker,\n",
    "        args.language,\n",
    "        args.server_url,\n",
    "        args.stream_chunk_size\n",
    "    )\n",
    "# stream_ffplay(audio_stream,args.output_file,bool(args.output_file))\n",
    "\n",
    "def ulaw_to_segment(segment: bytes) -> AudioSegment:\n",
    "    audio_data = audioop.ulaw2lin(segment, 2)\n",
    "    audio_data = audioop.ratecv(audio_data, 2, 1, 8000, 16000, None)[0]\n",
    "    return AudioSegment(audio_data, frame_rate=16000, channels=1, sample_width=2)\n",
    "\n",
    "for i,chunk in enumerate(audio_stream):\n",
    "    if i ==0:\n",
    "        wav_data = AudioSegment(chunk, format='ulaw',frame_rate=8000,sample_width=2,channels=1)\n",
    "    else:    \n",
    "        wav_data+=AudioSegment(chunk, format='ulaw',frame_rate=8000,sample_width=2,channels=1)\n",
    "\n",
    "\n",
    "with wave2.open(\"test2.ulaw\", 'wb') as f:\n",
    "    f.setcomptype('ULAW', 'CCITT G.711 u-law')\n",
    "    f.setframerate(8000)\n",
    "    f.setsampwidth(2)\n",
    "    for i,chunk in enumerate(audio_stream):\n",
    "        f.writeframes(chunk)"
   ]
  },
  {
   "cell_type": "code",
   "execution_count": 20,
   "metadata": {},
   "outputs": [
    {
     "data": {
      "text/html": [
       "\n",
       "                    <audio controls>\n",
       "                        <source src=\"data:audio/mpeg;base64,SUQzBAAAAAAAIlRTU0UAAAAOAAADTGF2ZjYxLjQuMTAwAAAAAAAAAAAAAAD/4zjAAAAAAAAAAAAASW5mbwAAAA8AAAAGAAACiABxcXFxcXFxcXFxcXFxcXFxjo6Ojo6Ojo6Ojo6Ojo6Ojo6qqqqqqqqqqqqqqqqqqqqqx8fHx8fHx8fHx8fHx8fHx8fj4+Pj4+Pj4+Pj4+Pj4+Pj4/////////////////////8AAAAATGF2YzYxLjguAAAAAAAAAAAAAAAAJAKWAAAAAAAAAoiS/KR+AAAAAAAAAAAAAAAAAAAAAAAAAAAAAAAAAAAAAAAAAAAAAAAAAAAAAAAAAAAAAAD/4xjEAA1AAsGRQxAAQILYv6wfB8HAQOCcHwQDGUwfB8EAQd5c+CAIfwQ/8EIOAhwQrPvVLh/+D4PnPxP/+J/B/5Rso3a0SeD/4xjEBg259uQBhxAAlwKNkB9oqL4+dozeXqj9H1fXr/9F5TsVjjcI+grq/M6sjlJ/mAdHZ117pb9//lP2VnUGK+aPtMusUQz/4xjECg9BBsABj0AABPtGk+DqvkjYiX20BD8b6C+m93rtpoLjiwfBsddhk6a6i+91i98s2Jh52Gqyd9vKV/0ocKxRZnG0lmj/4xjECA1QorwBjxgAda2Cvc6Ph6oGrMOP6Ui4fX1j/6RAREGDga6H7SO3tddkz5JKv+gkKAT/3f/6KgWyYw0IgaDqgaBo8sH/4xjEDRBwBoBRwRgAUFQVBUGsGgZ/1HuVBUFQVO4iBo6DQNWyoKgqDR7gqd//8RA09cqCrmcFeIgZ+DTyp2JesFZMQU1FMy7/4xjEBgAAA0gAAAAAMTAxIChiZXRhIDMpqqqqqqqqqqqqqqqqqqqqqqqqqqqqqqqqqqqqqqqqqqqqqqqqqqqqqqqqqqqqqqo=\" type=\"audio/mpeg\"/>\n",
       "                        Your browser does not support the audio element.\n",
       "                    </audio>\n",
       "                  "
      ],
      "text/plain": [
       "<pydub.audio_segment.AudioSegment at 0x1b4dd7cf1f0>"
      ]
     },
     "execution_count": 20,
     "metadata": {},
     "output_type": "execute_result"
    }
   ],
   "source": [
    "chunk_segment_ulaw = AudioSegment.from_file(AudioSegment.from_file(\"test_outputs/output_french.wav\").export(format=\"wav\",codec='pcm_mulaw',parameters=[\"-ar\",\"8000\"]))\n",
    "chunk_segment_ulaw"
   ]
  }
 ],
 "metadata": {
  "kernelspec": {
   "display_name": "xtts_stream",
   "language": "python",
   "name": "python3"
  },
  "language_info": {
   "codemirror_mode": {
    "name": "ipython",
    "version": 3
   },
   "file_extension": ".py",
   "mimetype": "text/x-python",
   "name": "python",
   "nbconvert_exporter": "python",
   "pygments_lexer": "ipython3",
   "version": "3.10.0"
  }
 },
 "nbformat": 4,
 "nbformat_minor": 2
}
