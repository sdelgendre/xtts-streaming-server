{
 "cells": [
  {
   "cell_type": "code",
   "execution_count": 1,
   "metadata": {},
   "outputs": [],
   "source": [
    "import argparse\n",
    "import json\n",
    "import shutil\n",
    "import subprocess\n",
    "import sys\n",
    "import time\n",
    "from typing import Iterator\n",
    "import os\n",
    "import requests\n",
    "import audioop\n",
    "from pydub import AudioSegment\n",
    "from types import SimpleNamespace\n"
   ]
  },
  {
   "cell_type": "code",
   "execution_count": 2,
   "metadata": {},
   "outputs": [],
   "source": [
    "\n",
    "def convert_wav_chunk_to_ulaw_chunk(wav_chunk, sample_width=2): \n",
    "    # The sample_width parameter corresponds to the number of bytes used per sample, default is 2 for 16-bit audio\n",
    "    \n",
    "    if sample_width not in {1, 2, 4}:\n",
    "        raise ValueError(\"sample_width must be 1, 2, or 4\")\n",
    "        \n",
    "    # Convert the WAV audio chunk to u-Law encoding \n",
    "    try:\n",
    "        ulaw_chunk = audioop.lin2ulaw(wav_chunk, sample_width) \n",
    "    except audioop.error as e:\n",
    "        print(f\"Error converting WAV chunk to u-Law: {e}\")\n",
    "        return None\n",
    "    \n",
    "    return ulaw_chunk\n"
   ]
  },
  {
   "cell_type": "code",
   "execution_count": 3,
   "metadata": {},
   "outputs": [],
   "source": [
    "\n",
    "def is_installed(lib_name: str) -> bool:\n",
    "    lib = shutil.which(lib_name)\n",
    "    if lib is None:\n",
    "        return False\n",
    "    return True\n"
   ]
  },
  {
   "cell_type": "code",
   "execution_count": 4,
   "metadata": {},
   "outputs": [],
   "source": [
    "\n",
    "def save(audio: bytes, filename: str) -> None:\n",
    "    with open(filename, \"wb\") as f:\n",
    "        f.write(audio)\n"
   ]
  },
  {
   "cell_type": "code",
   "execution_count": 5,
   "metadata": {},
   "outputs": [],
   "source": [
    "\n",
    "def stream_ffplay(audio_stream, output_file, save=True):\n",
    "    if not save:\n",
    "        ffplay_cmd = [\"ffplay\", \"-nodisp\", \"-probesize\", \"1024\", \"-autoexit\", \"-\"]\n",
    "    else:\n",
    "        print(\"Saving to \", output_file)\n",
    "        # ffplay_cmd = [\"ffmpeg\", \"-probesize\", \"1024\", \"-i\", \"-\", '-ar', '8000', output_file]\n",
    "        ffplay_cmd = [\"ffmpeg\", \"-probesize\", \"1024\",'-c:a', 'pcm_mulaw', '-ar', '8000', output_file, \"-i\", '-']\n",
    "\n",
    "    ffplay_proc = subprocess.Popen(ffplay_cmd, stdin=subprocess.PIPE)\n",
    "    for chunk in audio_stream:\n",
    "        if chunk is not None:\n",
    "            ffplay_proc.stdin.write(chunk)\n",
    "\n",
    "    # close on finish\n",
    "    ffplay_proc.stdin.close()\n",
    "    ffplay_proc.wait()\n"
   ]
  },
  {
   "cell_type": "code",
   "execution_count": 58,
   "metadata": {},
   "outputs": [],
   "source": [
    "\n",
    "def tts(text, speaker, language, server_url, stream_chunk_size) -> Iterator[bytes]:\n",
    "    start = time.perf_counter()\n",
    "    speaker[\"text\"] = text\n",
    "    speaker[\"language\"] = language\n",
    "    speaker[\"stream_chunk_size\"] = stream_chunk_size  # you can reduce it to get faster response, but degrade quality\n",
    "    speaker[\"add_wav_header\"] = False\n",
    "    res = requests.post(\n",
    "        f\"{server_url}/tts_stream\",\n",
    "        json=speaker,   \n",
    "        stream=True,\n",
    "    )\n",
    "    end = time.perf_counter()\n",
    "    print(f\"Time to make POST: {end-start}s\", file=sys.stderr)\n",
    "\n",
    "    if res.status_code != 200:\n",
    "        print(\"Error:\", res.text)\n",
    "        sys.exit(1)\n",
    "\n",
    "    first = True\n",
    "    for chunk in res.iter_content(chunk_size=512):\n",
    "        if first:\n",
    "            end = time.perf_counter()\n",
    "            print(f\"Time to first chunk: {end-start}s\", file=sys.stderr)\n",
    "            first = False\n",
    "        if chunk:\n",
    "            yield chunk\n",
    "\n",
    "    print(\"⏱️ response.elapsed:\", res.elapsed)\n",
    "\n"
   ]
  },
  {
   "cell_type": "code",
   "execution_count": 59,
   "metadata": {},
   "outputs": [],
   "source": [
    "\n",
    "def get_speaker(ref_audio,server_url):\n",
    "    files = {\"wav_file\": (\"reference.wav\", open(ref_audio, \"rb\"))}\n",
    "    response = requests.post(f\"{server_url}/clone_speaker\", files=files)\n",
    "    return response.json()\n"
   ]
  },
  {
   "cell_type": "code",
   "execution_count": 68,
   "metadata": {},
   "outputs": [],
   "source": [
    "args = SimpleNamespace()\n",
    "server_url = os.getenv(\"SERVER_URL\", \"http://15.237.142.70:8000\")\n",
    "text = \"Mon nom est Yoann, et je pense que c'est vraiment sympa de manger des crêpes, vous ne trouvez pas ?\"\n",
    "language = 'fr'\n",
    "ref_file = None\n",
    "stream_chunk_size = 30\n",
    "file_counter = 0\n",
    "output_file = \"./test_outputs/output_french\"\n",
    "while os.path.isfile(output_file+str(file_counter)+'.wav'):\n",
    "    file_counter += 1\n",
    "output_file = output_file+str(file_counter)+'.wav'\n",
    "\n",
    "args.text = text\n",
    "args.language = language\n",
    "args.output_file = output_file\n",
    "args.ref_file = ref_file\n",
    "args.server_url = server_url\n",
    "args.stream_chunk_size = stream_chunk_size\n",
    "\n",
    "\n",
    "speaker_file_path = os.path.join(os.path.curdir,\"french_speaker3.json\")\n",
    "\n",
    "with open(speaker_file_path, \"r\") as file:\n",
    "    speaker = json.load(file)\n",
    "\n",
    "if args.ref_file is not None:\n",
    "    print(\"Computing the latents for a new reference...\")\n",
    "    speaker = get_speaker(args.ref_file, args.server_url)\n",
    "with open('speaker.json','w') as f:\n",
    "    json.dump(speaker,f)"
   ]
  },
  {
   "cell_type": "code",
   "execution_count": 66,
   "metadata": {},
   "outputs": [
    {
     "name": "stderr",
     "output_type": "stream",
     "text": [
      "Time to make POST: 0.12637469999026507s\n",
      "Time to first chunk: 0.791455099999439s\n"
     ]
    },
    {
     "name": "stdout",
     "output_type": "stream",
     "text": [
      "⏱️ response.elapsed: 0:00:00.112121\n"
     ]
    },
    {
     "data": {
      "text/html": [
       "\n",
       "                    <audio controls>\n",
       "                        <source src=\"data:audio/mpeg;base64,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\" type=\"audio/mpeg\"/>\n",
       "                        Your browser does not support the audio element.\n",
       "                    </audio>\n",
       "                  "
      ],
      "text/plain": [
       "<pydub.audio_segment.AudioSegment at 0x1b4de6b2ce0>"
      ]
     },
     "execution_count": 66,
     "metadata": {},
     "output_type": "execute_result"
    }
   ],
   "source": [
    "audio_stream = tts(\n",
    "        args.text,\n",
    "        speaker,\n",
    "        args.language,\n",
    "        args.server_url,\n",
    "        args.stream_chunk_size\n",
    "    )\n",
    "# stream_ffplay(audio_stream,args.output_file,bool(args.output_file))\n",
    "\n",
    "def ulaw_to_segment(segment: bytes) -> AudioSegment:\n",
    "    audio_data = audioop.ulaw2lin(segment, 2)\n",
    "    audio_data = audioop.ratecv(audio_data, 2, 1, 8000, 16000, None)[0]\n",
    "    return AudioSegment(audio_data, frame_rate=16000, channels=1, sample_width=2)\n",
    "\n",
    "# Try to do a header\n",
    "# with open('test.wav', 'wb') as wav_buff:\n",
    "#     header = b\"RIFF\\x00\\x00\\x00\\x00WAVEfmt \\x12\\x00\\x00\\x00\\x07\\x00\\x01\\x00@\\x1f\\x00\\x00@\\x1f\\x00\\x00\\x01\\x00\\x08\\x00\\x02\\x00\\x00\\x00fact\\x04\\x00\\x00\\x00\\x16\\xe8data\\x00\\x00\\x00\\x00\"\n",
    "#     wav_buff.write(b\"RIFF\\x00\\x00\\x00\\x00WAVEfmt \\x12\\x00\\x00\\x00\\x07\\x00\\x01\\x00@\\x1f\\x00\\x00@\\x1f\\x00\\x00\\x01\\x00\\x08\\x00\\x02\\x00\\x00\\x00fact\\x04\\x00\\x00\\x00\\x16\\xe8data\\x00\\x00\\x00\\x00\")\n",
    "#     # wav_buff.write(b\"RIFF\\x00\\x00\\x00\\x00WAVEfmt \\x12\\x00\\x00\\x00\\x07\\x00\\x01\\x00@\\x1f\\x00\\x00@\\x1f\\x00\\x00\\x01\\x00\\x08\\x00\\x02\\x00\\x00\\x00fact\\x04\\x00\\x00\\x00\\x16\\xe8\\x00\\x00LIST\\x1a\\x00\\x00\\x00INFOISFT\\r\\x00\\x00\\x00Lavf61.4.100\\x00\\x00data\\x00\\x00\\x00\\x00\")\n",
    "#     datalen = 0\n",
    "#     for i,chunk in enumerate(audio_stream):\n",
    "#         datalen+= len(chunk)\n",
    "#         wav_buff.write(chunk)\n",
    "#     wav_buff.seek(4)\n",
    "#     wav_buff.write(bytes(len(header)+datalen-4))\n",
    "#     wav_buff.seek(len(header)-4)\n",
    "#     wav_buff.write(bytes(datalen))\n",
    "# wav_buff.close()\n",
    "\n",
    "\n",
    "# Si la conversion est faite à la fin il n'y a pas de problème\n",
    "for i,chunk in enumerate(audio_stream):\n",
    "    if i == 0:\n",
    "        wave_data = AudioSegment(chunk, frame_rate=24000,channels=1,sample_width=2)\n",
    "    else:\n",
    "        wave_data += AudioSegment(chunk, frame_rate=24000,channels=1,sample_width=2)\n",
    "AudioSegment.from_file(wave_data.export(out_f='test.wav',format=\"raw\",codec='pcm_mulaw',parameters=[\"-ar\",\"8000\"]))\n",
    "\n"
   ]
  },
  {
   "cell_type": "code",
   "execution_count": 65,
   "metadata": {},
   "outputs": [
    {
     "data": {
      "text/html": [
       "\n",
       "                    <audio controls>\n",
       "                        <source src=\"data:audio/mpeg;base64,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\" type=\"audio/mpeg\"/>\n",
       "                        Your browser does not support the audio element.\n",
       "                    </audio>\n",
       "                  "
      ],
      "text/plain": [
       "<pydub.audio_segment.AudioSegment at 0x1b4dc372410>"
      ]
     },
     "execution_count": 65,
     "metadata": {},
     "output_type": "execute_result"
    }
   ],
   "source": [
    "wave_data"
   ]
  },
  {
   "cell_type": "code",
   "execution_count": 50,
   "metadata": {},
   "outputs": [
    {
     "name": "stdout",
     "output_type": "stream",
     "text": [
      "b\"RIFF\\xfe\\x08\\x00\\x00WAVEfmt \\x12\\x00\\x00\\x00\\x07\\x00\\x01\\x00@\\x1f\\x00\\x00@\\x1f\\x00\\x00\\x01\\x00\\x08\\x00\\x00\\x00fact\\x04\\x00\\x00\\x00\\xaa\\x08\\x00\\x00LIST\\x1a\\x00\\x00\\x00INFOISFT\\r\\x00\\x00\\x00Lavf61.4.100\\x00\\x00data\\xaa\\x08\\x00\\x00\\xc1\\xdb\\xb4\\xae\\xa9\\xb2\\xe7\\xdb\\xc9\\xba\\xcdMIIg\\xe7[\\xff[g[MA882-/)%%\\x1c\\xcd\\xb8M>S\\xb0\\xaf\\xb0\\xba\\xdb\\xb0\\xae\\xb2\\xb2\\xc5\\xbe\\xb8\\xc5\\xc1\\xd3\\xdb\\xe7[[g\\xe7[Sg\\xe7\\xe7I>E>66/-&\\x1f8\\xc5A/+0\\xa6\\xa3\\xc1Sg\\xaf\\xa4\\xad\\xbc\\xdb\\xbe\\xae\\xb0\\xc5\\xc9\\xd3\\xcd\\xc5\\xd3\\xff[[[g\\xdb\\xe7\\xffMIIMS4//(IS6,)/%[\\xa4\\xbc\\xd3\\xcd\\xc5\\xa6\\xa7\\xb6\\xc1\\xbe\\xae\\xac\\xb4\\xc1\\xd3\\xbe\\xbe\\xd3[IMSA<M[[EI\\xe7[<:A<80/(*'\\x1f\\x1a\\xc1\\x9f\\xbe\\xe7I\\xb4\\x9e\\xa5\\xb0\\xd3\\xb8\\xa6\\xac\\xb0\\xbe\\xd3\\xba\\xc1\\xcd[EME>AS[AI[[M:8620/--%(!\\x1d\\xa5\\xaa\\xba[:\\xa5\\xa2\\xa8\\xb0S\\xaf\\xa7\\xab\\xb2\\xdb\\xbe\\xc1\\xbe\\xcd<MEE<A\\xe7MM[g\\xe7IE>>:42./,)\\x1e0\\xa3\\xb0\\xb0A\\xff\\x9e\\xa4\\xa7\\xbe\\xc1\\xae\\xaa\\xa9\\xc1\\xe7\\xc1\\xc5\\xc5[IESM<[\\xe7SMM\\xdbIME0>/0/*.#(\\x1e\\xc9\\xa8\\xb8\\xdb[\\xb2\\xa7\\xa4\\xad\\xc9\\xb4\\xac\\xaa\\xb0\\xc1\\xd3\\xcd\\xbe\\xe7I<EE<:>[IE<IgE>08:66+--*/\\xb4\\xad\\xb0\\xdb\\xc9\\xb0\\xa6\\xa2\\xb0\\xba\\xba\\xa9\\xa7\\xb0\\xbc\\xdb\\xc1\\xc1\\xc9A>EEEAMMI>IMI:2226/2-,/&E\\xb2\\xae\\xb0S\\xc5\\xb4\\xa4\\xa7\\xb0\\xbc\\xc1\\xae\\xaf\\xb0\\xcdg\\xdb\\xdb\\xc9E<4:AII:8<IIA:424426.0.2\\xbc\\xb4\\xaa\\xc5\\xc5\\xbc\\xaf\\xa4\\xaa\\xab\\xbe\\xb2\\xb0\\xae\\xae\\xc5\\xc9M\\xcd[[>:AI\\xdbS[EIMSEA86828////6\\xcd\\xb0\\xb0\\xb6\\xbe\\xbe\\xb2\\xad\\xac\\xad\\xb4\\xb8\\xbc\\xba\\xb6\\xc1\\xc5[[EIE>>AIIA<::<::6620///44Eg\\xd3\\xba\\xb8\\xb0\\xb0\\xb0\\xae\\xb0\\xae\\xb0\\xaf\\xb0\\xb0\\xb4\\xba\\xbe\\xcd\\xdb\\xff[SIIAAE>A<<8442200///2:I\\xcd\\xbe\\xb4\\xb0\\xaf\\xad\\xad\\xad\\xae\\xb0\\xb0\\xb2\\xb6\\xba\\xbe\\xc5\\xd3\\xff[MA>:62002220/-,,+('(/8g\\xc1\\xb2\\xaf\\xae\\xab\\xac\\xac\\xad\\xae\\xac\\xad\\xae\\xb0\\xb6\\xbc\\xc9\\xd3\\xff[MMIEEAEEIEA><842/.+)+/>\\xe7\\xbc\\xb0\\xad\\xaa\\xaa\\xaa\\xac\\xac\\xab\\xac\\xac\\xae\\xb0\\xb8\\xc5\\xd3\\xff[IEAAAAEAA><<<<<84//.+++/<[\\xbe\\xb2\\xac\\xaa\\xaa\\xa9\\xac\\xac\\xad\\xad\\xaf\\xb4\\xba\\xc5\\xd3[SE><:>AIMSSMIAA>>><840/.*,/8[\\xc1\\xb0\\xab\\xa7\\xa7\\xa8\\xaa\\xac\\xad\\xaf\\xb0\\xb2\\xb8\\xc1\\xd3\\xffSIA><>>EMSSMIEAA>AA><842//./4E\\xdb\\xba\\xaf\\xac\\xa9\\xaa\\xab\\xad\\xae\\xaf\\xb0\\xb0\\xb4\\xba\\xc1\\xcd\\xe7[MA<::<>EIMMIEAA>>><<86200//0:[\\xc9\\xb6\\xae\\xaa\\xaa\\xab\\xac\\xae\\xaf\\xb0\\xb0\\xb2\\xb6\\xbc\\xc5\\xd3\\xff[MA><<<<AAEEEEEAA>>><<:844204<S\\xd3\\xb8\\xaf\\xab\\xaa\\xaa\\xac\\xae\\xb0\\xb0\\xb4\\xb4\\xb8\\xbc\\xc1\\xc9\\xdb\\xff[MEEAAEEIIIIEEAA>>><<86440006>g\\xc5\\xb4\\xae\\xab\\xab\\xac\\xad\\xaf\\xb0\\xb2\\xb6\\xb8\\xba\\xbe\\xc5\\xcd\\xdb[SIEA>>>AEIIIEEA>>><::8644668<I\\xdb\\xc5\\xb6\\xaf\\xac\\xab\\xad\\xae\\xb0\\xb0\\xb0\\xb4\\xb6\\xb8\\xbc\\xc1\\xcd\\xdb[[MEEAAEIIIIEEA><<::888888:<>AM\\xe7\\xc9\\xbc\\xb2\\xb0\\xae\\xae\\xaf\\xb0\\xb0\\xb4\\xb4\\xb6\\xb8\\xbc\\xc1\\xcd\\xdb\\xff[SIEEA>>A>>><:::::<:88:::<<AEMg\\xd3\\xc1\\xb6\\xb0\\xb0\\xb0\\xb0\\xb0\\xb0\\xb0\\xb0\\xb2\\xb4\\xb8\\xb8\\xbc\\xbe\\xc5\\xcd\\xdb[SMIEAA>>><<::::::8<<><AEESS\\xe7\\xff\\xdb\\xc5\\xbc\\xb4\\xb4\\xb4\\xb4\\xb4\\xb2\\xb4\\xb6\\xb6\\xbc\\xbc\\xbe\\xbe\\xc5\\xc9\\xd3\\xffgMII><::88688888868::>AII[g\\xe7\\xdb\\xcd\\xc1\\xc9\\xbc\\xba\\xb6\\xb6\\xb8\\xb4\\xb6\\xb6\\xba\\xb8\\xba\\xbc\\xba\\xbe\\xbe\\xc5\\xc9\\xd3\\xe7\\xffSIA><:88868:<<><<E>MEM[[\\xff\\xe7\\xd3\\xdb\\xd3\\xdb\\xc5\\xba\\xba\\xb6\\xba\\xb8\\xb8\\xb8\\xba\\xbc\\xbe\\xbe\\xc1\\xbe\\xc5\\xc5\\xcd\\xdb\\xdbS[IE>:<8<6<::A:><IEMSS\\xd3S\\xd3\\xe7\\xdb\\xd3\\xdb\\xc9\\xc5\\xbc\\xbc\\xb8\\xba\\xb8\\xb8\\xbc\\xbc\\xbe\\xbe\\xc5\\xcd\\xd3\\xff\\xff[ME><:<8:8::8AEIMMSSMSISg\\xcd\\xc9\\xc1\\xbe\\xb8\\xba\\xba\\xba\\xbc\\xbe\\xc1\\xc5\\xbe\\xcd\\xc9\\xdb\\xe7SMMEA>><:<<A<:AEIIMg\\xffg\\xff[\\xe7\\xff\\xdb\\xc9\\xc1\\xbe\\xbc\\xbe\\xba\\xba\\xbe\\xbe\\xc1\\xc1\\xc5\\xcd\\xc5\\xcd\\xd3\\xe7ggSSMEAEEE<AAEEAEIMSMSg[\\xe7\\xffg\\xe7\\xdb\\xdb\\xd3\\xdb\\xdb\\xcd\\xd3\\xcd\\xdb\\xdb\\xc9\\xd3\\xc9\\xe7\\xd3\\xcd\\xdb\\xdb\\xff\\xe7\\xffgSMMSMEIEIEEMISMM[M[[g\\xe7\\xffg\\xff\\xff\\xd3\\xc9\\xe7\\xcd\\xd3\\xc9\\xc9\\xd3\\xc9\\xdb\\xd3\\xdb\\xe7\\xd3\\xff\\xe7SS[MSMMIIMSSM[[\\xe7\\xff\\xe7\\xff\\xff\\xe7\\xe7\\xe7\\xe7\\xdb\\xcd\\xd3\\xd3\\xd3\\xcd\\xcd\\xcd\\xd3\\xd3\\xdb\\xdb\\xdb\\xdb\\xe7\\xe7ggg\\xff[[MSS[[SgS[ggg[gggggg\\xe7\\xff\\xff\\xffg\\xff\\xff\\xff\\xff[\\xff[\\xe7[\\xff\\xffggggg\\xe7[[[[gg[[[[gg[[[[gg\\xe7g\\xffg\\xff[g[g\\xe7\\xff\\xff\\xff\\xffggggggg\\xff\\xff[gg[[[gg\\xe7\\xffggggg\\xff[gg\\xff\\xff\\xff\\xff\\xff\\xff\\xff\\xe7\\xe7\\xe7\\xdb\\xe7\\xe7\\xff\\xff\\xff\\xff\\xff\\xff\\xff\\xff\\xff\\xffg\\xff[\\xffgggg[ggggg\\xff\\xff[\\xe7\\xff\\xff\\xff\\xff\\xffg\\xff\\xff\\xff\\xff\\xff\\xff[\\xff\\xff\\xff\\xff\\xff\\xffg\\xff\\xff\\xff\\xff[gg[g\\xffgggggggggggggggggggggggggggggggggggggggggggggggggg\\xff\\xff\\xff\\xff\\xff\\xff\\xff\\xff\\xff\\xff\\xff\\xff\\xff\\xff\\xff\\xff\\xff\\xff\\xff\\xff\\xff\\xff\\xff\\xff\\xff\\xff\\xff\\xff\\xff\\xff\\xff\\xff\\xff\\xff\\xff\\xff\\xff\\xff\\xff\\xff\\xff\\xff\\xff\\xff\\xff\\xff\\xff\\xff\\xff\\xff\\xff\\xff\\xff\\xff\\xff\\xff\\xff\\xff\\xff\\xff\\xff\\xff\\xff\\xff\\xff\\xff\\xff\\xff\\xff\\xff\\xff\\xff\\xff\\xff\\xff\\xff\\xff\\xff\\xff\\xff\\xff\\xff\\xff\\xff\\xff\\xff\\xff\\xff\\xff\\xff\\xff\\xff\\xff\\xff\\xff\\xff\\xff\\xff\\xff\\xff\\xff\\xff\\xff\\xff\\xff\\xff\\xff\\xff\\xff\\xff\\xff\\xff\\xff\\xff\\xff\\xff\\xff\\xff\\xff\\xff\\xff\\xff\\xff\\xff\\xff\\xff\\xff\\xff\\xff\\xff\\xff\\xff\\xff\\xff\\xff\\xff\\xff\\xff\\xff\\xff\\xff\\xff\\xff\\xff\\xff\\xff\\xff\\xff\\xff\\xff\\xff\\xff\\xff\\xff\\xff\\xff\\xff\\xff\\xff\\xff\\xff\\xff\\xff\\xff\\xff\\xff\\xff\\xff\\xff\\xff\\xff\\xff\\xff\\xff\\xff\\xff\\xff\\xff\\xff\\xff\\xff\\xff\\xff\\xff\\xff\\xff\\xff\\xff\\xff\\xff\\xff\\xff\\xff\\xff\\xff\\xff\\xff\\xff\\xff\\xff\\xff\\xff\\xff\\xff\\xff\\xff\\xff\\xff\\xff\\xff\\xff\\xff\\xff\\xff\\xff\\xff\\xff\\xff\\xff\\xff\\xff\\xff\\xff\\xff\\xff\\xff\\xff\\xff\\xff\\xff\\xff\\xff\\xff\\xff\\xff\\xff\\xff\\xff\\xff\\xff\\xff\\xff\\xff\\xff\\xff\\xff\\xff\\xff\\xff\\xff\\xff\\xff\\xff\\xff\\xff\\xff\\xff\\xff\\xff\\xff\\xff\\xff\\xff\\xff\\xff\\xff\\xff\\xff\\xff\\xff\\xff\\xff\\xff\\xff\\xff\\xff\\xff\\xff\\xff\\xff\\xff\\xff\\xff\\xff\\xff\\xff\\xff\\xff\\xff\\xff\\xff\\xff\\xff\\xff\\xff\\xff\\xff\\xff\\xff\\xff\\xff\\xff\\xff\\xff\\xff\\xff\\xff\\xff\\xff\\xff\\xff\\xff\\xff\\xff\\xff\\xff\\xff\\xff\\xff\\xff\\xff\\xff\\xff\\xff\\xff\\xff\\xff\\xff\\xff\\xff\\xff\\xff\\xff\\xff\\xff\\xff\\xff\\xff\\xff\\xff\\xff\\xff\\xff\\xff\\xff\\xff\\xff\\xff\\xff\\xff\\xff\\xff\\xff\\xff\\xff\\xff\\xff\\xff\\xff\\xff\\xff\\xff\\xff\\xff\\xff\\xff\\xff\\xff\\xff\\xff\\xff\\xff\\xff\\xff\\xff\\xff\\xff\\xff\\xff\\xff\\xff\\xff\\xff\\xff\\xff\\xff\\xff\\xff\\xff\\xff\\xff\\xff\\xff\\xff\\xff\\xff\\xff\\xff\\xff\\xff\\xff\\xff\\xff\\xff\\xff\\xff\\xff\\xff\\xff\\xff\\xff\\xff\\xff\\xff\\xff\\xff\\xff\\xff\\xff\\xff\\xff\\xff\\xff\\xff\\xff\\xff\\xff\\xff\\xff\\xff\\xff\\xff\\xff\\xff\\xff\\xff\\xff\\xff\\xff\\xff\\xff\\xff\\xff\\xff\\xff\\xff\\xff\\xff\\xff\\xff\\xff\\xff\\xff\\xff\\xff\\xff\\xff\\xff\\xff\\xff\\xff\\xff\\xff\\xff\\xff\\xff\\xff\\xff\\xff\\xff\\xff\\xff\\xff\\xff\\xff\\xff\\xff\\xff\\xff\\xff\\xff\\xff\\xff\"\n",
      "b'\\x07\\x02\\r\\x10\\x15\\x0e\\x01\\x02\\x05\\n\\x04\\xfb\\xfa\\xfa\\xfe\\x01\\xfd\\x00\\xfd\\xfe\\xfd\\xfb\\xf8\\xf4\\xf4\\xf1\\xee\\xf0\\xea\\xe6\\xe6\\xd9\\x04\\x0b\\xfb\\xf7\\xfc\\x0f\\x0f\\x0f\\n\\x02\\x0f\\x10\\x0e\\x0e\\x06\\x08\\x0b\\x06\\x07\\x03\\x02\\x01\\xfd\\xfd\\xfe\\x01\\xfd\\xfc\\xfe\\x01\\x01\\xfa\\xf7\\xf9\\xf7\\xf3\\xf3\\xf0\\xee\\xe7\\xdf\\xf4\\x06\\xf8\\xf0\\xec\\xf0\\x18\\x1b\\x07\\xfc\\xfe\\x0f\\x1a\\x11\\t\\x02\\x08\\x10\\x0f\\x06\\x05\\x03\\x04\\x06\\x03\\x00\\xfd\\xfd\\xfd\\xfe\\x02\\x01\\x00\\xfb\\xfa\\xfa\\xfb\\xfc\\xf2\\xf0\\xf0\\xe9\\xfa\\xfc\\xf3\\xed\\xea\\xf0\\xe6\\xfd\\x1a\\t\\x03\\x04\\x06\\x18\\x17\\x0c\\x07\\x08\\x10\\x12\\r\\x07\\x03\\x08\\x08\\x03\\xfd\\xfa\\xfb\\xfc\\xf8\\xf6\\xfb\\xfd\\xfd\\xf9\\xfa\\x01\\xfd\\xf6\\xf5\\xf8\\xf6\\xf4\\xf0\\xf0\\xe9\\xeb\\xe8\\xdf\\xd5\\x07 \\x08\\x01\\xfa\\r\"\\x19\\x0f\\x03\\x0b\\x18\\x12\\x0f\\x08\\x03\\n\\x07\\x04\\xfd\\xf9\\xfb\\xf9\\xf7\\xf8\\xfc\\xfd\\xf8\\xfa\\xfd\\xfd\\xfb\\xf5\\xf4\\xf3\\xf1\\xf0\\xf0\\xee\\xee\\xe6\\xe9\\xe2\\xdb\\x19\\x14\\n\\xfd\\xf5\\x19\\x1c\\x16\\x0f\\xfc\\x0f\\x17\\x13\\x0e\\x02\\x08\\x07\\x08\\x04\\xf6\\xfb\\xf9\\xf9\\xf6\\xf8\\x01\\xfb\\xfb\\xfd\\xfe\\x01\\xfa\\xf9\\xf7\\xf7\\xf5\\xf2\\xf1\\xef\\xf0\\xed\\xea\\xdd\\xf0\\x1b\\x0f\\x0f\\xf8\\x00\"\\x1a\\x17\\x08\\x07\\x10\\x14\\x15\\x07\\x01\\x07\\x06\\x06\\xfd\\xfa\\xf9\\xfc\\xfb\\xf6\\xfd\\x01\\xfc\\xfb\\xfb\\x02\\xfa\\xfb\\xf9\\xf0\\xf7\\xf0\\xf0\\xf0\\xeb\\xef\\xe4\\xe9\\xdd\\x05\\x16\\x0b\\x02\\xfd\\x0e\\x17\\x1a\\x11\\x05\\r\\x12\\x14\\x0f\\x07\\x03\\x04\\x08\\x01\\xfa\\xf6\\xf9\\xf9\\xf6\\xf5\\xf7\\xfd\\xfa\\xf9\\xf6\\xfa\\xfe\\xf9\\xf7\\xf0\\xf4\\xf5\\xf3\\xf3\\xec\\xee\\xee\\xeb\\xf0\\r\\x11\\x0f\\x02\\x05\\x0f\\x18\\x1c\\x0f\\n\\n\\x15\\x17\\x0f\\t\\x02\\x07\\x07\\x05\\xf8\\xf7\\xf9\\xf9\\xf9\\xf8\\xfb\\xfb\\xfa\\xf7\\xfa\\xfb\\xfa\\xf5\\xf1\\xf1\\xf1\\xf3\\xf0\\xf1\\xee\\xed\\xf0\\xe7\\xf9\\x0e\\x10\\x0f\\xfc\\x06\\r\\x1a\\x17\\x0f\\t\\x07\\x10\\x0f\\x0f\\x04\\xfe\\x02\\x02\\x05\\xf9\\xf6\\xf2\\xf5\\xf8\\xfa\\xfa\\xf5\\xf4\\xf6\\xfa\\xfa\\xf8\\xf5\\xf2\\xf1\\xf2\\xf2\\xf1\\xf3\\xef\\xf0\\xef\\xf1\\t\\r\\x14\\x06\\x06\\t\\x0f\\x1a\\x14\\x13\\x08\\x0e\\x0f\\x10\\x10\\x06\\x05\\xfb\\x04\\xfd\\xfd\\xf7\\xf5\\xf8\\xfa\\x02\\xfc\\xfd\\xf9\\xfa\\xfb\\xfc\\xf9\\xf8\\xf4\\xf3\\xf4\\xf1\\xf4\\xf0\\xf0\\xf0\\xf0\\xf3\\x04\\x0f\\x0f\\x0c\\x08\\x08\\x0e\\x11\\x12\\x11\\r\\x0b\\t\\n\\x0c\\x07\\x06\\xfd\\xfd\\xf9\\xfa\\xf9\\xf7\\xf7\\xf8\\xfa\\xfa\\xf8\\xf6\\xf5\\xf5\\xf6\\xf5\\xf5\\xf3\\xf3\\xf1\\xf0\\xf0\\xf0\\xf0\\xf2\\xf2\\xf9\\xfe\\x03\\n\\x0b\\x0f\\x0f\\x0f\\x10\\x0f\\x10\\x0f\\x0f\\x0f\\x0f\\r\\n\\x08\\x04\\x02\\x00\\xfd\\xfc\\xfa\\xfa\\xf8\\xf8\\xf9\\xf7\\xf8\\xf6\\xf6\\xf4\\xf2\\xf2\\xf1\\xf1\\xf0\\xf0\\xf0\\xf0\\xf0\\xf1\\xf5\\xfa\\x04\\x08\\r\\x0f\\x0f\\x11\\x11\\x11\\x10\\x0f\\x0f\\x0e\\x0c\\n\\x08\\x06\\x03\\x00\\xfd\\xfb\\xf8\\xf7\\xf5\\xf3\\xf1\\xf0\\xf0\\xf1\\xf1\\xf1\\xf0\\xf0\\xee\\xed\\xed\\xec\\xe9\\xe8\\xe9\\xf0\\xf4\\xfe\\x07\\x0e\\x0f\\x10\\x13\\x12\\x12\\x11\\x10\\x12\\x11\\x10\\x0f\\x0c\\t\\x05\\x03\\x00\\xfd\\xfb\\xfb\\xfa\\xf9\\xf9\\xf8\\xf9\\xf9\\xfa\\xf9\\xf8\\xf7\\xf6\\xf4\\xf2\\xf1\\xf0\\xef\\xec\\xea\\xec\\xf0\\xf7\\x01\\t\\x0f\\x11\\x14\\x14\\x14\\x12\\x12\\x13\\x12\\x12\\x10\\x0f\\x0b\\x06\\x03\\x00\\xfd\\xfa\\xf9\\xf8\\xf8\\xf8\\xf8\\xf9\\xf8\\xf8\\xf7\\xf6\\xf6\\xf6\\xf6\\xf6\\xf4\\xf2\\xf0\\xf0\\xef\\xec\\xec\\xec\\xf0\\xf6\\xfd\\x08\\x0e\\x12\\x14\\x14\\x15\\x12\\x12\\x11\\x11\\x0f\\r\\n\\x06\\x03\\xfd\\xfc\\xf9\\xf7\\xf6\\xf5\\xf7\\xf8\\xfa\\xfb\\xfc\\xfc\\xfb\\xfa\\xf8\\xf8\\xf7\\xf7\\xf7\\xf6\\xf4\\xf2\\xf0\\xf0\\xef\\xeb\\xed\\xf0\\xf4\\xfd\\x07\\x0f\\x13\\x17\\x17\\x16\\x14\\x12\\x11\\x0f\\x0f\\x0e\\x0b\\x07\\x03\\x00\\xfc\\xfa\\xf8\\xf7\\xf6\\xf7\\xf7\\xf9\\xfb\\xfc\\xfc\\xfb\\xfa\\xf9\\xf8\\xf8\\xf7\\xf8\\xf8\\xf7\\xf6\\xf4\\xf2\\xf1\\xf0\\xf0\\xef\\xf0\\xf2\\xf9\\x02\\n\\x0f\\x12\\x15\\x14\\x13\\x11\\x10\\x0f\\x0f\\x0f\\r\\n\\x07\\x04\\x01\\xfd\\xfb\\xf8\\xf6\\xf5\\xf5\\xf6\\xf7\\xf9\\xfa\\xfb\\xfb\\xfa\\xf9\\xf8\\xf8\\xf7\\xf7\\xf7\\xf6\\xf6\\xf4\\xf3\\xf1\\xf0\\xf0\\xf0\\xf0\\xf0\\xf5\\xfd\\x05\\x0c\\x10\\x14\\x14\\x13\\x12\\x10\\x0f\\x0f\\x0f\\x0e\\x0c\\t\\x06\\x03\\x00\\xfd\\xfb\\xf8\\xf7\\xf6\\xf6\\xf6\\xf6\\xf8\\xf8\\xf9\\xf9\\xf9\\xf9\\xf9\\xf8\\xf8\\xf7\\xf7\\xf7\\xf6\\xf6\\xf5\\xf4\\xf2\\xf2\\xf1\\xf0\\xf2\\xf6\\xfc\\x03\\x0b\\x0f\\x13\\x14\\x14\\x12\\x10\\x0f\\x0f\\r\\r\\x0b\\t\\x07\\x05\\x02\\x00\\xfd\\xfb\\xf9\\xf9\\xf8\\xf8\\xf9\\xf9\\xfa\\xfa\\xfa\\xfa\\xf9\\xf9\\xf8\\xf8\\xf7\\xf7\\xf7\\xf6\\xf6\\xf4\\xf3\\xf2\\xf2\\xf0\\xf0\\xf0\\xf3\\xf7\\xfe\\x06\\r\\x10\\x13\\x13\\x12\\x11\\x0f\\x0f\\x0e\\x0c\\x0b\\n\\x08\\x06\\x04\\x02\\xfd\\xfc\\xfa\\xf9\\xf8\\xf7\\xf7\\xf7\\xf8\\xf9\\xfa\\xfa\\xfa\\xf9\\xf9\\xf8\\xf7\\xf7\\xf7\\xf6\\xf5\\xf5\\xf4\\xf3\\xf2\\xf2\\xf3\\xf3\\xf4\\xf6\\xfa\\x02\\x06\\x0c\\x0f\\x12\\x13\\x11\\x10\\x0f\\x0f\\x0f\\r\\x0c\\x0b\\t\\x07\\x04\\x02\\xfd\\xfd\\xfb\\xf9\\xf9\\xf8\\xf8\\xf9\\xfa\\xfa\\xfa\\xfa\\xf9\\xf9\\xf8\\xf7\\xf6\\xf6\\xf5\\xf5\\xf4\\xf4\\xf4\\xf4\\xf4\\xf4\\xf5\\xf6\\xf7\\xf8\\xfb\\x01\\x05\\t\\x0e\\x0f\\x10\\x10\\x0f\\x0f\\x0f\\r\\r\\x0c\\x0b\\t\\x07\\x04\\x02\\x00\\xfd\\xfc\\xfa\\xf9\\xf9\\xf8\\xf7\\xf7\\xf8\\xf7\\xf7\\xf7\\xf6\\xf5\\xf5\\xf5\\xf5\\xf5\\xf6\\xf5\\xf4\\xf4\\xf5\\xf5\\xf5\\xf6\\xf6\\xf8\\xf9\\xfb\\xfe\\x03\\x07\\x0c\\x0f\\x0f\\x0f\\x0f\\x0f\\x0f\\x0f\\x0f\\x0e\\r\\x0b\\x0b\\t\\x08\\x06\\x04\\x02\\xfd\\xfc\\xfb\\xfa\\xf9\\xf8\\xf8\\xf7\\xf7\\xf7\\xf6\\xf6\\xf5\\xf5\\xf5\\xf5\\xf5\\xf5\\xf4\\xf6\\xf6\\xf7\\xf6\\xf8\\xf9\\xf9\\xfc\\xfc\\x01\\x00\\x02\\x06\\t\\r\\r\\r\\r\\r\\x0e\\r\\x0c\\x0c\\t\\t\\x08\\x08\\x06\\x05\\x03\\x00\\xfe\\xfb\\xfa\\xfa\\xf7\\xf6\\xf5\\xf5\\xf4\\xf4\\xf3\\xf4\\xf4\\xf4\\xf4\\xf4\\xf4\\xf3\\xf4\\xf5\\xf5\\xf7\\xf8\\xfa\\xfa\\xfd\\xfe\\x01\\x02\\x04\\x07\\x05\\t\\n\\x0c\\x0c\\x0b\\r\\x0c\\x0c\\n\\x0b\\n\\t\\n\\x08\\x08\\x06\\x05\\x03\\x01\\x00\\xfc\\xfa\\xf8\\xf7\\xf6\\xf5\\xf4\\xf4\\xf4\\xf3\\xf4\\xf5\\xf6\\xf6\\xf7\\xf6\\xf6\\xf9\\xf7\\xfb\\xf9\\xfb\\xfd\\xfd\\x00\\x01\\x03\\x02\\x03\\x02\\x06\\n\\n\\x0c\\n\\x0b\\x0b\\x0b\\n\\t\\x08\\x08\\x07\\x08\\x06\\x06\\x04\\x02\\x02\\xfc\\xfd\\xfa\\xf9\\xf7\\xf5\\xf6\\xf4\\xf6\\xf3\\xf6\\xf5\\xf5\\xf8\\xf5\\xf7\\xf6\\xfa\\xf9\\xfb\\xfc\\xfc\\x03\\xfc\\x03\\x01\\x02\\x03\\x02\\x05\\x06\\t\\t\\x0b\\n\\x0b\\x0b\\t\\t\\x08\\x08\\x06\\x04\\x03\\x00\\x00\\xfd\\xfb\\xf9\\xf7\\xf6\\xf5\\xf6\\xf4\\xf5\\xf4\\xf5\\xf5\\xf4\\xf8\\xf9\\xfa\\xfb\\xfb\\xfc\\xfc\\xfb\\xfc\\xfa\\xfc\\xfe\\x04\\x05\\x07\\x08\\x0b\\n\\n\\n\\t\\x08\\x07\\x06\\x08\\x04\\x05\\x02\\x01\\xfc\\xfb\\xfb\\xf9\\xf8\\xf7\\xf7\\xf6\\xf5\\xf6\\xf6\\xf8\\xf6\\xf5\\xf8\\xf9\\xfa\\xfa\\xfb\\xfe\\x00\\xfe\\x00\\xfd\\x01\\x00\\x02\\x05\\x07\\x08\\t\\x08\\n\\n\\x08\\x08\\x07\\x07\\x06\\x04\\x06\\x04\\x03\\x01\\xfe\\xfe\\xfc\\xfc\\xfb\\xf9\\xf8\\xf9\\xf9\\xf9\\xf6\\xf8\\xf8\\xf9\\xf9\\xf8\\xf9\\xfa\\xfb\\xfc\\xfb\\xfc\\xfe\\xfd\\x01\\x00\\xfe\\x01\\x02\\x02\\x03\\x02\\x02\\x04\\x03\\x04\\x02\\x02\\x05\\x03\\x05\\x01\\x03\\x04\\x02\\x02\\x00\\x01\\x00\\xfe\\xfc\\xfb\\xfb\\xfc\\xfb\\xf9\\xfa\\xf9\\xfa\\xf9\\xf9\\xfb\\xfa\\xfc\\xfb\\xfb\\xfd\\xfb\\xfd\\xfd\\xfe\\x01\\x00\\xfe\\x00\\x00\\x03\\x05\\x01\\x04\\x03\\x05\\x05\\x03\\x05\\x02\\x03\\x02\\x01\\x03\\x00\\x01\\xfc\\xfc\\xfd\\xfb\\xfc\\xfb\\xfb\\xfa\\xfa\\xfb\\xfc\\xfc\\xfb\\xfd\\xfd\\x01\\x00\\x01\\x00\\x00\\x01\\x01\\x01\\x01\\x02\\x04\\x03\\x03\\x03\\x04\\x04\\x04\\x03\\x03\\x02\\x02\\x02\\x02\\x01\\x01\\xfe\\xfe\\xfe\\x00\\xfd\\xfd\\xfb\\xfc\\xfc\\xfd\\xfd\\xfc\\xfe\\xfc\\xfd\\xfe\\xfe\\xfe\\xfd\\xfe\\xfe\\xfe\\xfe\\xfe\\xfe\\x01\\x00\\x00\\x00\\xfe\\x00\\x00\\x00\\x00\\xfd\\x00\\xfd\\x01\\xfd\\x00\\x00\\xfe\\xfe\\xfe\\xfe\\xfe\\x01\\xfd\\xfd\\xfd\\xfd\\xfe\\xfe\\xfd\\xfd\\xfd\\xfd\\xfe\\xfe\\xfd\\xfd\\xfd\\xfd\\xfe\\xfe\\x01\\xfe\\x00\\xfe\\x00\\xfd\\xfe\\xfd\\xfe\\x01\\x00\\x00\\x00\\x00\\xfe\\xfe\\xfe\\xfe\\xfe\\xfe\\xfe\\x00\\x00\\xfd\\xfe\\xfe\\xfd\\xfd\\xfd\\xfe\\xfe\\x01\\x00\\xfe\\xfe\\xfe\\xfe\\xfe\\x00\\xfd\\xfe\\xfe\\x00\\x00\\x00\\x00\\x00\\x00\\x00\\x01\\x01\\x01\\x02\\x01\\x01\\x00\\x00\\x00\\x00\\x00\\x00\\x00\\x00\\x00\\x00\\xfe\\x00\\xfd\\x00\\xfe\\xfe\\xfe\\xfe\\xfd\\xfe\\xfe\\xfe\\xfe\\xfe\\x00\\x00\\xfd\\x01\\x00\\x00\\x00\\x00\\x00\\xfe\\x00\\x00\\x00\\x00\\x00\\x00\\xfd\\x00\\x00\\x00\\x00\\x00\\x00\\xfe\\x00\\x00\\x00\\x00\\xfd\\xfe\\xfe\\xfd\\xfe\\x00\\xfe\\xfe\\xfe\\xfe\\xfe\\xfe\\xfe\\xfe\\xfe\\xfe\\xfe\\xfe\\xfe\\xfe\\xfe\\xfe\\xfe\\xfe\\xfe\\xfe\\xfe\\xfe\\xfe\\xfe\\xfe\\xfe\\xfe\\xfe\\xfe\\xfe\\xfe\\xfe\\xfe\\xfe\\xfe\\xfe\\xfe\\xfe\\xfe\\xfe\\xfe\\xfe\\xfe\\xfe\\xfe\\xfe\\xfe\\xfe\\xfe\\xfe\\x00\\x00\\x00\\x00\\x00\\x00\\x00\\x00\\x00\\x00\\x00\\x00\\x00\\x00\\x00\\x00\\x00\\x00\\x00\\x00\\x00\\x00\\x00\\x00\\x00\\x00\\x00\\x00\\x00\\x00\\x00\\x00\\x00\\x00\\x00\\x00\\x00\\x00\\x00\\x00\\x00\\x00\\x00\\x00\\x00\\x00\\x00\\x00\\x00\\x00\\x00\\x00\\x00\\x00\\x00\\x00\\x00\\x00\\x00\\x00\\x00\\x00\\x00\\x00\\x00\\x00\\x00\\x00\\x00\\x00\\x00\\x00\\x00\\x00\\x00\\x00\\x00\\x00\\x00\\x00\\x00\\x00\\x00\\x00\\x00\\x00\\x00\\x00\\x00\\x00\\x00\\x00\\x00\\x00\\x00\\x00\\x00\\x00\\x00\\x00\\x00\\x00\\x00\\x00\\x00\\x00\\x00\\x00\\x00\\x00\\x00\\x00\\x00\\x00\\x00\\x00\\x00\\x00\\x00\\x00\\x00\\x00\\x00\\x00\\x00\\x00\\x00\\x00\\x00\\x00\\x00\\x00\\x00\\x00\\x00\\x00\\x00\\x00\\x00\\x00\\x00\\x00\\x00\\x00\\x00\\x00\\x00\\x00\\x00\\x00\\x00\\x00\\x00\\x00\\x00\\x00\\x00\\x00\\x00\\x00\\x00\\x00\\x00\\x00\\x00\\x00\\x00\\x00\\x00\\x00\\x00\\x00\\x00\\x00\\x00\\x00\\x00\\x00\\x00\\x00\\x00\\x00\\x00\\x00\\x00\\x00\\x00\\x00\\x00\\x00\\x00\\x00\\x00\\x00\\x00\\x00\\x00\\x00\\x00\\x00\\x00\\x00\\x00\\x00\\x00\\x00\\x00\\x00\\x00\\x00\\x00\\x00\\x00\\x00\\x00\\x00\\x00\\x00\\x00\\x00\\x00\\x00\\x00\\x00\\x00\\x00\\x00\\x00\\x00\\x00\\x00\\x00\\x00\\x00\\x00\\x00\\x00\\x00\\x00\\x00\\x00\\x00\\x00\\x00\\x00\\x00\\x00\\x00\\x00\\x00\\x00\\x00\\x00\\x00\\x00\\x00\\x00\\x00\\x00\\x00\\x00\\x00\\x00\\x00\\x00\\x00\\x00\\x00\\x00\\x00\\x00\\x00\\x00\\x00\\x00\\x00\\x00\\x00\\x00\\x00\\x00\\x00\\x00\\x00\\x00\\x00\\x00\\x00\\x00\\x00\\x00\\x00\\x00\\x00\\x00\\x00\\x00\\x00\\x00\\x00\\x00\\x00\\x00\\x00\\x00\\x00\\x00\\x00\\x00\\x00\\x00\\x00\\x00\\x00\\x00\\x00\\x00\\x00\\x00\\x00\\x00\\x00\\x00\\x00\\x00\\x00\\x00\\x00\\x00\\x00\\x00\\x00\\x00\\x00\\x00\\x00\\x00\\x00\\x00\\x00\\x00\\x00\\x00\\x00\\x00\\x00\\x00\\x00\\x00\\x00\\x00\\x00\\x00\\x00\\x00\\x00\\x00\\x00\\x00\\x00\\x00\\x00\\x00\\x00\\x00\\x00\\x00\\x00\\x00\\x00\\x00\\x00\\x00\\x00\\x00\\x00\\x00\\x00\\x00\\x00\\x00\\x00\\x00\\x00\\x00\\x00\\x00\\x00\\x00\\x00\\x00\\x00\\x00\\x00\\x00\\x00\\x00\\x00\\x00\\x00\\x00\\x00\\x00\\x00\\x00\\x00\\x00\\x00\\x00\\x00\\x00\\x00\\x00\\x00\\x00\\x00\\x00\\x00\\x00\\x00\\x00\\x00\\x00\\x00\\x00\\x00\\x00\\x00\\x00\\x00\\x00\\x00\\x00\\x00\\x00\\x00\\x00\\x00\\x00\\x00\\x00\\x00\\x00\\x00\\x00\\x00\\x00\\x00\\x00\\x00\\x00\\x00\\x00\\x00\\x00\\x00\\x00\\x00\\x00\\x00\\x00\\x00\\x00\\x00\\x00\\x00\\x00\\x00\\x00\\x00\\x00\\x00\\x00\\x00\\x00\\x00\\x00\\x00\\x00\\x00\\x00\\x00\\x00'\n",
      "2218\n",
      "2310\n",
      "193\n"
     ]
    }
   ],
   "source": [
    "f = AudioSegment.from_file(\"test_outputs/output_french.wav\").export(format=\"wav\",codec='pcm_mulaw',parameters=[\"-ar\",\"8000\"])\n",
    "d = AudioSegment.from_file(f)\n",
    "f.seek(0)\n",
    "data = f.readlines()[0]\n",
    "print(data)\n",
    "print(d.raw_data)\n",
    "print(len(d.raw_data))\n",
    "\n",
    "print(len(data))\n",
    "print(data[len(data)-len(d.raw_data)])\n",
    "\n",
    "\n"
   ]
  }
 ],
 "metadata": {
  "kernelspec": {
   "display_name": "xtts_stream",
   "language": "python",
   "name": "python3"
  },
  "language_info": {
   "codemirror_mode": {
    "name": "ipython",
    "version": 3
   },
   "file_extension": ".py",
   "mimetype": "text/x-python",
   "name": "python",
   "nbconvert_exporter": "python",
   "pygments_lexer": "ipython3",
   "version": "3.10.0"
  }
 },
 "nbformat": 4,
 "nbformat_minor": 2
}
